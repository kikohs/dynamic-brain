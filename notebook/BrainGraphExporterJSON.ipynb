{
 "metadata": {
  "name": "",
  "signature": "sha256:178a2373ace77dced61293d37ad5a6bf8c56182c983487bfa6a3eb7795657cea"
 },
 "nbformat": 3,
 "nbformat_minor": 0,
 "worksheets": [
  {
   "cells": [
    {
     "cell_type": "markdown",
     "metadata": {},
     "source": [
      "# Brain Graph Exporter\n",
      "\n",
      "## Importing the brain Graph data from Matlab (or CSV) to python and dump the result to a JSON file."
     ]
    },
    {
     "cell_type": "code",
     "collapsed": false,
     "input": [
      "import sys\n",
      "import os\n",
      "import networkx as nx\n",
      "import scipy as sp\n",
      "import numpy as np\n",
      "import matplotlib.pyplot as plt\n",
      "import scipy.io\n",
      "import csv\n",
      "import json\n",
      "from networkx.readwrite import json_graph\n",
      "\n",
      "# Current notebook folder, change the path here\n",
      "NOTEBOOK_DIR = '/Users/kikohs/work/pro/dybrain/notebook/'\n",
      "NOTEBOOK_INPUT_DIR = os.path.join(NOTEBOOK_DIR, 'data/input/')\n",
      "NOTEBOOK_OUT_DIR = os.path.join(NOTEBOOK_DIR, 'data/')"
     ],
     "language": "python",
     "metadata": {},
     "outputs": []
    },
    {
     "cell_type": "markdown",
     "metadata": {},
     "source": [
      "## Loading brain labels"
     ]
    },
    {
     "cell_type": "code",
     "collapsed": false,
     "input": [
      "brainLabels = []\n",
      "filename = os.path.join(NOTEBOOK_INPUT_DIR,'brain_labels.txt')\n",
      "with open(filename, 'r') as f:\n",
      "    reader = csv.reader(f, delimiter=',')\n",
      "    for row in reader:\n",
      "        brainLabels.append(row[0])\n",
      "print('Read: ' + filename)"
     ],
     "language": "python",
     "metadata": {},
     "outputs": []
    },
    {
     "cell_type": "markdown",
     "metadata": {},
     "source": [
      "## Loading the average adjacency matrix for all patients"
     ]
    },
    {
     "cell_type": "code",
     "collapsed": false,
     "input": [
      "filename = os.path.join(NOTEBOOK_INPUT_DIR, 'SCgroup.txt')\n",
      "A = numpy.loadtxt(open(filename,\"rb\"), dtype=int, delimiter=',', skiprows=0)\n",
      "# Remove diagonal elements to have a real adjacency matrix\n",
      "A =  A - np.diag(np.diag(A))\n",
      "\n",
      "print('Read: ' + filename)"
     ],
     "language": "python",
     "metadata": {},
     "outputs": []
    },
    {
     "cell_type": "markdown",
     "metadata": {},
     "source": [
      "Show the adjacency matrix"
     ]
    },
    {
     "cell_type": "code",
     "collapsed": false,
     "input": [
      "plt.imshow(A)\n",
      "plt.show()"
     ],
     "language": "python",
     "metadata": {},
     "outputs": []
    },
    {
     "cell_type": "markdown",
     "metadata": {},
     "source": [
      "## Loading time series"
     ]
    },
    {
     "cell_type": "markdown",
     "metadata": {},
     "source": [
      "In this part, we read the time series for each patient in memory"
     ]
    },
    {
     "cell_type": "code",
     "collapsed": false,
     "input": [
      "ts = []  # timeseries for all patients\n",
      "patients = [] # patient names\n",
      "for root, dirs, files in os.walk(NOTEBOOK_INPUT_DIR):\n",
      "    for filename in files:\n",
      "        if filename.startswith('PH'):\n",
      "            patients.append(filename[0:-7])  # remove _TS.txt from name\n",
      "            path = os.path.join(NOTEBOOK_INPUT_DIR, filename)\n",
      "            ts.append(numpy.loadtxt(open(path, 'rb'), delimiter=',', skiprows=0))\n",
      "\n",
      "ts_size = ts[0].shape[1]\n",
      "print 'Read', len(ts), 'files'\n",
      "print 'Timeseries size', ts_size"
     ],
     "language": "python",
     "metadata": {},
     "outputs": []
    },
    {
     "cell_type": "markdown",
     "metadata": {},
     "source": [
      "## Create the augmented Networkx graph"
     ]
    },
    {
     "cell_type": "code",
     "collapsed": false,
     "input": [
      "# Create the base graph the adhacency matrix\n",
      "G = nx.from_numpy_matrix(A)"
     ],
     "language": "python",
     "metadata": {},
     "outputs": []
    },
    {
     "cell_type": "code",
     "collapsed": false,
     "input": [
      "# Iterate through nodes of the graph, to add infos on each node\n",
      "for i in G.nodes():  # each node is an int\n",
      "    name = brainLabels[i]\n",
      "    short_name = ''\n",
      "    brain_side = ''\n",
      "    if name.startswith('lh_'):\n",
      "        short_name = name[3:]\n",
      "        brain_side = 'left'\n",
      "    elif name.startswith('rh_'):\n",
      "        short_name = name[3:]\n",
      "        brain_side = 'right'\n",
      "    else:\n",
      "        short_name = name\n",
      "    G.node[i]['label'] = short_name\n",
      "    G.node[i]['brain_side'] = brain_side"
     ],
     "language": "python",
     "metadata": {},
     "outputs": []
    },
    {
     "cell_type": "code",
     "collapsed": false,
     "input": [
      "ts_data = []  # list[dict(patient_name: timseries)]\n",
      "for i, name in enumerate(patients):\n",
      "    ts_data.append({'name': name, 'data': ts[i].tolist()})\n",
      "    \n",
      "G.graph['patient_count'] = len(ts_data)\n",
      "G.graph['ts_size'] = ts_size\n",
      "G.graph['ts'] = ts_data"
     ],
     "language": "python",
     "metadata": {},
     "outputs": []
    },
    {
     "cell_type": "markdown",
     "metadata": {},
     "source": [
      "## Export the augmented graph as json"
     ]
    },
    {
     "cell_type": "markdown",
     "metadata": {},
     "source": [
      "Save the graph with its nodes, edges and attributes inside a json file:"
     ]
    },
    {
     "cell_type": "code",
     "collapsed": false,
     "input": [
      "# J = json_graph.node_link_data(G)\n",
      "fullname = 'augmented_brain_graph.json'\n",
      "path = os.path.join(NOTEBOOK_OUT_DIR, fullname)\n",
      "with open(path, 'w') as f:\n",
      "    json.dump(json_graph.node_link_data(G), f)\n",
      "print('Wrote file: ' + path)"
     ],
     "language": "python",
     "metadata": {},
     "outputs": []
    }
   ],
   "metadata": {}
  }
 ]
}