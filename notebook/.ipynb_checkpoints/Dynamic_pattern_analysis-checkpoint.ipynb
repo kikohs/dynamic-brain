{
 "metadata": {
  "name": "",
  "signature": "sha256:aa2f6bc073cd8ae4a1dd8d303bbd870ef02e75b9e364c27a4afbea022d3a803c"
 },
 "nbformat": 3,
 "nbformat_minor": 0,
 "worksheets": [
  {
   "cells": [
    {
     "cell_type": "markdown",
     "metadata": {},
     "source": [
      "# Dynamic brain pattern analysis"
     ]
    },
    {
     "cell_type": "markdown",
     "metadata": {},
     "source": [
      "Researchers:\n",
      "\n",
      "- Kirell Benzi\n",
      "- Benjamin Ricaud\n",
      "\n",
      "This notebook aims at extracting and classfying activation patterns of the brain from a spatio-temporal graph of active brain components."
     ]
    },
    {
     "cell_type": "code",
     "collapsed": false,
     "input": [
      "import sys\n",
      "import os\n",
      "import networkx as nx\n",
      "import scipy as sp\n",
      "import numpy as np\n",
      "import matplotlib.pyplot as plt\n",
      "import scipy.io\n",
      "import json\n",
      "\n",
      "# Current notebook folder, change the path here\n",
      "NOTEBOOK_DIR = '/Users/kikohs/work/pro/dybrain/notebook/'\n",
      "NOTEBOOK_INPUT_DIR = os.path.join(NOTEBOOK_DIR, 'data/')\n",
      "NOTEBOOK_OUT_DIR = os.path.join(NOTEBOOK_DIR, 'data/')"
     ],
     "language": "python",
     "metadata": {},
     "outputs": [],
     "prompt_number": 3
    },
    {
     "cell_type": "markdown",
     "metadata": {},
     "source": [
      "## Load the spatio-temporal graph and create a networkx graph"
     ]
    },
    {
     "cell_type": "code",
     "collapsed": false,
     "input": [
      "path = os.path.join(NOTEBOOK_INPUT_DIR, 'dynamic_components.json')\n",
      "\n",
      "blob = json.load(open(path, 'r'))"
     ],
     "language": "python",
     "metadata": {},
     "outputs": [],
     "prompt_number": 25
    },
    {
     "cell_type": "code",
     "collapsed": false,
     "input": [
      "print blob.keys()"
     ],
     "language": "python",
     "metadata": {},
     "outputs": [
      {
       "output_type": "stream",
       "stream": "stdout",
       "text": [
        "[u'edge_count', u'node_count', u'edges', u'layer_count', u'nodes', u'component_count']\n"
       ]
      }
     ],
     "prompt_number": 26
    },
    {
     "cell_type": "code",
     "collapsed": false,
     "input": [
      "G = nx.DiGraph()  # it is a directed graph\n",
      "\n",
      "for n in blob['nodes']:\n",
      "    nid = int(n['id'])\n",
      "    n.pop('id', None)\n",
      "    G.add_node(nid, n)\n",
      "\n",
      "\n",
      "print G.node[0]"
     ],
     "language": "python",
     "metadata": {},
     "outputs": [
      {
       "output_type": "stream",
       "stream": "stdout",
       "text": [
        "{u'component_id': 0, u'slice_pos': 99, u'weight': 1.6852263, u'component_num': 0, u'ts_group_id': 0, u'label': u'frontalpole', u'input_id': 2, u'layer_pos': 0, u'y': 150, u'x': 297, u'brain_side': u'right'}\n"
       ]
      }
     ],
     "prompt_number": 27
    },
    {
     "cell_type": "code",
     "collapsed": false,
     "input": [],
     "language": "python",
     "metadata": {},
     "outputs": []
    }
   ],
   "metadata": {}
  }
 ]
}