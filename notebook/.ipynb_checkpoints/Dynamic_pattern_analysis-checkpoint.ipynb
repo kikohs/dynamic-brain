{
 "metadata": {
  "name": "",
  "signature": "sha256:02726a3737a203f61fbea6d3d651a1ec7e15c7dbc6a8fa99eeabb040e789ac2b"
 },
 "nbformat": 3,
 "nbformat_minor": 0,
 "worksheets": [
  {
   "cells": [
    {
     "cell_type": "markdown",
     "metadata": {},
     "source": [
      "# Dynamic brain pattern analysis"
     ]
    },
    {
     "cell_type": "markdown",
     "metadata": {},
     "source": [
      "Researchers:\n",
      "\n",
      "- Kirell Benzi\n",
      "- Benjamin Ricaud\n",
      "\n",
      "This notebook aims at extracting and classfying activation patterns of the brain from a spatio-temporal graph of active brain components."
     ]
    },
    {
     "cell_type": "code",
     "collapsed": false,
     "input": [
      "import sys\n",
      "import os\n",
      "import math\n",
      "import csv\n",
      "import networkx as nx\n",
      "import scipy as sp\n",
      "import numpy as np\n",
      "import matplotlib.pyplot as plt\n",
      "import scipy.io\n",
      "import json\n",
      "from collections import Counter, OrderedDict, defaultdict, Callable\n",
      "import sklearn as sk\n",
      "import sklearn.cluster\n",
      "import itertools\n",
      "\n",
      "%matplotlib inline\n",
      "# Current notebook folder, change the path here\n",
      "NOTEBOOK_DIR = '/Users/kikohs/work/pro/dybrain/notebook/'\n",
      "NOTEBOOK_INPUT_DIR = os.path.join(NOTEBOOK_DIR, 'data/')\n",
      "NOTEBOOK_OUT_DIR = os.path.join(NOTEBOOK_DIR, 'data/')"
     ],
     "language": "python",
     "metadata": {},
     "outputs": [],
     "prompt_number": 1
    },
    {
     "cell_type": "markdown",
     "metadata": {},
     "source": [
      "## Load the spatio-temporal graph and create a global networkx graph"
     ]
    },
    {
     "cell_type": "markdown",
     "metadata": {},
     "source": [
      "List the different version of the dynamic components graphm"
     ]
    },
    {
     "cell_type": "code",
     "collapsed": false,
     "input": [
      "def list_graph_files():\n",
      "    for root, dirs, files in os.walk(NOTEBOOK_INPUT_DIR):\n",
      "        return [filename for filename in files if filename.startswith('dynamic_components')]\n",
      "\n",
      "graphs = list_graph_files()\n",
      "print(graphs)"
     ],
     "language": "python",
     "metadata": {},
     "outputs": [
      {
       "output_type": "stream",
       "stream": "stdout",
       "text": [
        "['dynamic_components_raw.json', 'dynamic_components_s3_l1_i1.json']\n"
       ]
      }
     ],
     "prompt_number": 2
    },
    {
     "cell_type": "code",
     "collapsed": false,
     "input": [
      "basename = 'dynamic_components'\n",
      "\n",
      "path = os.path.join(NOTEBOOK_INPUT_DIR, graphs[0])\n",
      "\n",
      "blob = json.load(open(path, 'r'))\n",
      "G = nx.Graph()  # it is a directed graph\n",
      "\n",
      "# Create nodes\n",
      "for n in blob['nodes']:\n",
      "    nid = int(n['id'])\n",
      "    n.pop('id', None)\n",
      "    G.add_node(nid, n)\n",
      "\n",
      "# Create edges\n",
      "for e in blob['edges']:\n",
      "    src = int(e['source'])\n",
      "    tgt = int(e['target'])\n",
      "    eid = int(e['id'])\n",
      "    G.add_edge(src, tgt, {'eid': eid})\n",
      "\n",
      "# Add extra graph properties\n",
      "G.graph['layer_count'] = blob['layer_count']\n",
      "G.graph['component_count'] = blob['component_count']\n",
      "G.graph['group_count'] = blob['group_count']\n",
      "\n",
      "print(nx.info(G))"
     ],
     "language": "python",
     "metadata": {},
     "outputs": [
      {
       "output_type": "stream",
       "stream": "stdout",
       "text": [
        "Name: \n",
        "Type: Graph\n",
        "Number of nodes: 18270\n",
        "Number of edges: 39488\n",
        "Average degree:   4.3227\n"
       ]
      }
     ],
     "prompt_number": 3
    },
    {
     "cell_type": "markdown",
     "metadata": {},
     "source": [
      "## Split the global graph into components\n",
      "\n",
      "The graph is a sum of disconnected components. We want to analyze those components to extract similar patterns. Let start by creating a class which represent a component (it is a directed subgraph of the global graph)."
     ]
    },
    {
     "cell_type": "code",
     "collapsed": false,
     "input": [
      "class Component(object):\n",
      "    def __init__(self, component_id):\n",
      "        self.component_id = component_id\n",
      "        self.g = nx.Graph()\n",
      "        self.layers = None\n",
      "        self.input_ids = None\n",
      "        self.feat = None\n",
      "        self.ts_group = 0\n",
      "        self.cluster_id = None\n",
      "        self.func_ids = None\n",
      "    \n",
      "    def add_node(self, nid, data):\n",
      "        self.g.add_node(nid, data)\n",
      "    \n",
      "    def add_edge(self, src, tgt, data):\n",
      "        self.g.add_edge(src, tgt, data)\n",
      "        \n",
      "    def extract_properties(self):\n",
      "        self.layers = []\n",
      "        self.feat = []\n",
      "        self.func_ids = []\n",
      "        \n",
      "        inIds = Counter()\n",
      "        layer_positions = OrderedDict()\n",
      "        last_pos = 0\n",
      "        \n",
      "        for n, d in self.g.nodes_iter(data=True):\n",
      "            self.ts_group = d['ts_group_id']\n",
      "            lp = d['layer_pos']\n",
      "            input_id = d['input_id']\n",
      "            self.func_ids.append(int(d['func_id']))\n",
      "            \n",
      "            # needed to compute relative postion (0, 1, 2) of this component\n",
      "            if lp not in layer_positions:\n",
      "                layer_positions[lp] = last_pos\n",
      "                last_pos += 1\n",
      "            \n",
      "            relative_pos = layer_positions[lp]\n",
      "            self.feat.append((relative_pos, input_id))\n",
      "            inIds.update( { input_id : 1} )\n",
      "            \n",
      "        self.layers = sorted(layer_positions.keys())\n",
      "        self.input_ids = OrderedDict(sorted(inIds.iteritems(), key=lambda t: t[0]))\n",
      "\n",
      "    def width(self):\n",
      "        return len(self.layers)\n",
      "    \n",
      "    def height(self):\n",
      "        \"\"\"\n",
      "        Return the count of input_ids (original brain node ids) \n",
      "        over which the component spans\n",
      "        \"\"\"\n",
      "        return len(self.input_ids)\n",
      "    \n",
      "    def features(self):\n",
      "        \"\"\"\n",
      "        Return list of tuples where tuple[0] is the layer \n",
      "        number and tuple[1] the position where the node is activated\n",
      "        \"\"\"\n",
      "        return self.feat\n",
      "    \n",
      "    def node_count(self):\n",
      "        return self.g.number_of_nodes()\n",
      "    \n",
      "    def edge_count(self):\n",
      "        return self.g.number_of_edges()\n",
      "    \n",
      "    def layers(self):\n",
      "        return self.layers\n",
      "    \n",
      "    def __str__(self):\n",
      "        s = 'Component id: ' + str(self.component_id) + '\\n'\n",
      "        if self.cluster_id:\n",
      "            s += 'cluster id:' + str(self.cluster_id) + '\\n'\n",
      "        r = 'group: ' + str(self.ts_group) + '\\n' \\\n",
      "            '#nodes: ' + str(self.g.number_of_nodes()) + '\\n' \\\n",
      "            '#edges: ' + str(self.g.number_of_edges()) + '\\n' \\\n",
      "            '#width: ' + str(self.width()) + ' -- ' + ', '.join(map(str, self.layers)) + '\\n' \\\n",
      "            '#height ' + str(self.height()) + '\\n'\n",
      "        return s + r\n",
      "    \n",
      "    def __repr__(self):\n",
      "        return self.__str__()"
     ],
     "language": "python",
     "metadata": {},
     "outputs": [],
     "prompt_number": 76
    },
    {
     "cell_type": "markdown",
     "metadata": {},
     "source": [
      "Now that we can represent a component, let's extract them from the global graph"
     ]
    },
    {
     "cell_type": "code",
     "collapsed": false,
     "input": [
      "# Create dictionnary of Components\n",
      "components = []\n",
      "for c in xrange(G.graph['component_count']):\n",
      "    components.append(Component(c))\n",
      "\n",
      "# Split nodes in each component\n",
      "input_ids = set()\n",
      "for n, d in G.nodes_iter(data=True):\n",
      "    comp_id = d['component_num']\n",
      "    components[comp_id].add_node(n, d)\n",
      "    input_ids.add(d['input_id']) \n",
      "    \n",
      "# Split edges in each component\n",
      "for u, v, d in G.edges_iter(data=True):\n",
      "    src = G.node[u]\n",
      "    tgt = G.node[v]\n",
      "    \n",
      "    # edges cannot exist between 2 different components\n",
      "    if src['component_num'] != tgt['component_num']:\n",
      "        raise Exception('Edge between 2 diff components', 'exp')\n",
      "    \n",
      "    comp_id = src['component_num']\n",
      "    # Create a DIRECTED edge from layer position (time)\n",
      "    if src['layer_pos'] > tgt['layer_pos']:\n",
      "        components[comp_id].add_edge(v, u, d)\n",
      "    elif src['layer_pos'] < tgt['layer_pos']: \n",
      "        components[comp_id].add_edge(u, v, d)\n",
      "    else:\n",
      "        raise Exception('same layer', 'exp')\n",
      "    "
     ],
     "language": "python",
     "metadata": {},
     "outputs": [],
     "prompt_number": 77
    },
    {
     "cell_type": "markdown",
     "metadata": {},
     "source": [
      "Since components belong to different patients, it would be useful to group them by patients.\n",
      "\n",
      "Let's do a Patient class"
     ]
    },
    {
     "cell_type": "code",
     "collapsed": false,
     "input": [
      "class Patient:\n",
      "    def __init__(self, patient_id):\n",
      "        self.pid = patient_id\n",
      "        self.components = []\n",
      "    \n",
      "    def add_component(self, comp):\n",
      "        self.components.append(comp)\n",
      "    \n",
      "    def aggregate(self, comp_prop):\n",
      "        return map(lambda x: getattr(x, comp_prop)(), self.components)\n",
      "    \n",
      "    def apply_on_components(self, func, comp_prop):\n",
      "        # Dynamically call funtion defined by user on each component method\n",
      "        return func(self.aggregate(comp_prop))\n",
      "        \n",
      "    def mean(self, comp_prop):\n",
      "        if not self.components:\n",
      "            return None    \n",
      "        f = lambda x: float(sum(x))/ len(x)\n",
      "        # calc mean\n",
      "        m = self.apply_on_components(f, comp_prop)\n",
      "        # standard dev\n",
      "        std = math.sqrt(f(map(lambda x: (x-m)**2, self.aggregate(comp_prop))))\n",
      "        return m, std\n",
      "    \n",
      "    def component_count(self):\n",
      "        return len(self.components)\n",
      "    \n",
      "    def node_count(self):\n",
      "        return self.apply_on_components(sum, 'node_count')\n",
      "    \n",
      "    def edge_count(self):\n",
      "        return self.apply_on_components(sum, 'edge_count')\n",
      "        \n",
      "    def __str__(self):\n",
      "        s = 'Patient id: ' + str(self.pid) + '\\n' \\\n",
      "            '#components: ' + str(self.component_count()) + '\\n' \\\n",
      "            '#nodes: ' + str(self.node_count()) + '\\n' \\\n",
      "            '#edges: ' + str(self.edge_count()) + '\\n' \\\n",
      "            'width (mean, std): ' + str(self.mean('width')) + '\\n' \\\n",
      "            'height (mean, std): ' + str(self.mean('height')) + '\\n'\n",
      "        return s "
     ],
     "language": "python",
     "metadata": {},
     "outputs": [],
     "prompt_number": 78
    },
    {
     "cell_type": "code",
     "collapsed": false,
     "input": [
      "# Create patients\n",
      "patients = [Patient(p) for p in xrange(G.graph['group_count'])]\n",
      "\n",
      "# Extract useful properties from our components\n",
      "for v in components:\n",
      "    v.extract_properties()\n",
      "    patients[v.ts_group].add_component(v)  # store components in patients"
     ],
     "language": "python",
     "metadata": {},
     "outputs": [],
     "prompt_number": 79
    },
    {
     "cell_type": "markdown",
     "metadata": {},
     "source": [
      "## Show some insights about the newly extracted components"
     ]
    },
    {
     "cell_type": "markdown",
     "metadata": {},
     "source": [
      "### Component repartition per group"
     ]
    },
    {
     "cell_type": "code",
     "collapsed": false,
     "input": [
      "fig = plt.figure(1, (7,5))\n",
      "index = np.arange(len(patients))\n",
      "components_per_patient = [p.component_count() for p in patients]\n",
      "rects1 = plt.bar(index, components_per_patient)\n",
      "plt.xlabel('Patients')\n",
      "plt.ylabel('#components')\n",
      "plt.title('Components per patient')\n",
      "plt.show()"
     ],
     "language": "python",
     "metadata": {},
     "outputs": [
      {
       "metadata": {},
       "output_type": "display_data",
       "png": "[encoded data removed]",
       "text": [
        "<matplotlib.figure.Figure at 0x115b6c690>"
       ]
      }
     ],
     "prompt_number": 80
    },
    {
     "cell_type": "markdown",
     "metadata": {},
     "source": [
      "### Nodes and edges per patient"
     ]
    },
    {
     "cell_type": "code",
     "collapsed": false,
     "input": [
      "index = np.arange(len(patients))\n",
      "nodes_per_patient = [p.node_count() for p in patients]\n",
      "edges_per_patient = [p.edge_count() for p in patients]\n",
      "\n",
      "fig = plt.figure(num=2, figsize=(8, 5), dpi=326, facecolor='w', edgecolor='k')\n",
      "ax1 = fig.add_subplot(1,2,1) # 1 row, 2 columns, first plot\n",
      "rects1 = ax1.bar(index, nodes_per_patient)\n",
      "plt.xlabel('Patients')\n",
      "plt.ylabel('#nodes')\n",
      "plt.title('Nodes per patient')\n",
      "\n",
      "ax2 = fig.add_subplot(1,2,2)\n",
      "rects1 = ax2.bar(index, edges_per_patient)\n",
      "plt.xlabel('Patients')\n",
      "plt.ylabel('#edges')\n",
      "plt.title('Edges per patient')\n",
      "\n",
      "fig.tight_layout()\n",
      "plt.show()"
     ],
     "language": "python",
     "metadata": {},
     "outputs": [
      {
       "metadata": {},
       "output_type": "display_data",
       "png": "[encoded data removed]",
       "text": [
        "<matplotlib.figure.Figure at 0x11a73f450>"
       ]
      }
     ],
     "prompt_number": 81
    },
    {
     "cell_type": "markdown",
     "metadata": {},
     "source": [
      "### Width and height histograms for components before filtering"
     ]
    },
    {
     "cell_type": "code",
     "collapsed": false,
     "input": [
      "fig = plt.figure(1, (15, 8))\n",
      "ax1 = fig.add_subplot(1,2,1) # 1 row, 2 columns, first plot\n",
      "widths = [c.width() for c in components]\n",
      "unique_width = set(widths)\n",
      "ax1.hist(widths, len(unique_width), range=[0, 25])\n",
      "plt.xlabel('Width')\n",
      "plt.ylabel('#Component')\n",
      "plt.title('Component per width')\n",
      "# plt.xticks(np.arange(2, 25))  # Cannot have a width < 2 (1 edge is at least 2 timesteps)\n",
      "\n",
      "\n",
      "ax2 = fig.add_subplot(1,2,2)\n",
      "heights = [c.height() for c in components]\n",
      "unique_height = set(heights)\n",
      "ax2.hist(heights, len(unique_height), range=[1, 20])\n",
      "plt.xlabel('Height')\n",
      "plt.ylabel('#Component')\n",
      "plt.title('Component per height')\n",
      "# plt.xticks(np.arange(40))\n",
      "\n",
      "plt.tight_layout()\n",
      "plt.show()"
     ],
     "language": "python",
     "metadata": {},
     "outputs": [
      {
       "metadata": {},
       "output_type": "display_data",
       "png": "[encoded data removed]",
       "text": [
        "<matplotlib.figure.Figure at 0x11e877710>"
       ]
      }
     ],
     "prompt_number": 82
    },
    {
     "cell_type": "markdown",
     "metadata": {},
     "source": [
      "# Filter noisy components"
     ]
    },
    {
     "cell_type": "markdown",
     "metadata": {},
     "source": [
      "## Set filtering params"
     ]
    },
    {
     "cell_type": "code",
     "collapsed": false,
     "input": [
      "filt_min_width = 3\n",
      "filt_max_width = 8\n",
      "filt_min_height = 2\n",
      "filt_max_height = 11"
     ],
     "language": "python",
     "metadata": {},
     "outputs": [],
     "prompt_number": 83
    },
    {
     "cell_type": "code",
     "collapsed": false,
     "input": [
      "filtered_components = [c for c in components \n",
      "               if (filt_min_height <= c.height() <= filt_max_height) and (filt_min_width <= c.width() <= filt_max_width)]"
     ],
     "language": "python",
     "metadata": {},
     "outputs": [],
     "prompt_number": 84
    },
    {
     "cell_type": "code",
     "collapsed": false,
     "input": [
      "print 'Before filtering:', len(components), 'components'\n",
      "print 'After filtering:', len(filtered_components), 'components'"
     ],
     "language": "python",
     "metadata": {},
     "outputs": [
      {
       "output_type": "stream",
       "stream": "stdout",
       "text": [
        "Before filtering: 2571 components\n",
        "After filtering: 778 components\n"
       ]
      }
     ],
     "prompt_number": 85
    },
    {
     "cell_type": "markdown",
     "metadata": {},
     "source": [
      "### Components after filtering"
     ]
    },
    {
     "cell_type": "code",
     "collapsed": false,
     "input": [
      "del patients\n",
      "# Create patients\n",
      "patients = [Patient(p) for p in xrange(G.graph['group_count'])]\n",
      "\n",
      "# Extract useful properties from our components\n",
      "for v in filtered_components:\n",
      "    v.extract_properties()\n",
      "    patients[v.ts_group].add_component(v)  # store components in patients"
     ],
     "language": "python",
     "metadata": {},
     "outputs": [],
     "prompt_number": 86
    },
    {
     "cell_type": "code",
     "collapsed": false,
     "input": [
      "fig = plt.figure(1, (7,5))\n",
      "index = np.arange(len(patients))\n",
      "components_per_patient = [p.component_count() for p in patients]\n",
      "rects1 = plt.bar(index, components_per_patient)\n",
      "plt.xlabel('Patients')\n",
      "plt.ylabel('#components')\n",
      "plt.title('Components per patient')\n",
      "plt.show()"
     ],
     "language": "python",
     "metadata": {},
     "outputs": [
      {
       "metadata": {},
       "output_type": "display_data",
       "png": "[encoded data removed]",
       "text": [
        "<matplotlib.figure.Figure at 0x11b276850>"
       ]
      }
     ],
     "prompt_number": 87
    },
    {
     "cell_type": "code",
     "collapsed": false,
     "input": [
      "fig = plt.figure(1, (15, 8))\n",
      "ax1 = fig.add_subplot(1,2,1) # 1 row, 2 columns, first plot\n",
      "widths = [c.width() for c in filtered_components]\n",
      "ax1.hist(widths, 16, range=[0, 15])\n",
      "plt.xlabel('Width')\n",
      "plt.ylabel('#Component')\n",
      "plt.title('Component per width')\n",
      "# plt.xticks(np.arange(2, 25))  # Cannot have a width < 2 (1 edge is at least 2 timesteps)\n",
      "\n",
      "\n",
      "ax2 = fig.add_subplot(1,2,2)\n",
      "heights = [c.height() for c in filtered_components]\n",
      "ax2.hist(heights, 100, range=[0, filt_max_height])\n",
      "plt.xlabel('Height')\n",
      "plt.ylabel('#Component')\n",
      "plt.title('Component per height')\n",
      "# plt.xticks(np.arange(40))\n",
      "\n",
      "plt.tight_layout()\n",
      "plt.show()"
     ],
     "language": "python",
     "metadata": {},
     "outputs": [
      {
       "metadata": {},
       "output_type": "display_data",
       "png": "[encoded data removed]",
       "text": [
        "<matplotlib.figure.Figure at 0x11a788250>"
       ]
      }
     ],
     "prompt_number": 88
    },
    {
     "cell_type": "markdown",
     "metadata": {},
     "source": [
      " # Pattern extraction"
     ]
    },
    {
     "cell_type": "markdown",
     "metadata": {},
     "source": [
      "In this part, we will try to extract repeating patterns across components using different methods."
     ]
    },
    {
     "cell_type": "markdown",
     "metadata": {},
     "source": [
      "### Brain nodes and their functional ids by Yeo (reference)"
     ]
    },
    {
     "cell_type": "code",
     "collapsed": false,
     "input": [
      "FUNC_ZONES = 7\n",
      "FUNC_NODE_COUT = 68"
     ],
     "language": "python",
     "metadata": {},
     "outputs": [],
     "prompt_number": 89
    },
    {
     "cell_type": "markdown",
     "metadata": {},
     "source": [
      "| Functional id | Name |\n",
      "|---------------|------|\n",
      "| 1 | Visual |\n",
      "| 2 | Somatomotor |\n",
      "| 3\t| Dorsal attention |\n",
      "| 4\t| Ventral Attention |\n",
      "| 5\t| Limbic |\n",
      "| 6\t| Frontoparietal |\n",
      "| 7\t| Default |"
     ]
    },
    {
     "cell_type": "markdown",
     "metadata": {},
     "source": [
      "| NODES ID | LABELS                      | FUNCTIONAL NETWORK Yeo ID |\n",
      "|----------|-----------------------------|---------------------------|\n",
      "| 21       | Rh cuneus                   | 1                         |\n",
      "| 22       | Rh pericalcarine            | 1                         |\n",
      "| 23       | Rh lateraloccipital         | 1                         |\n",
      "| 24       | Rh lingual                  | 1                         |\n",
      "| 25       | Rh fusiform                 | 1                         |\n",
      "| 26       | Rh parahippocampal          | 1                         |\n",
      "| 55       | Lh cuneus                   | 1                         |\n",
      "| 56       | Lh pericalcarine            | 1                         |\n",
      "| 57       | Lh lateraloccipital         | 1                         |\n",
      "| 58       | Lh lingual                  | 1                         |\n",
      "| 59       | Lh fusiform                 | 1                         |\n",
      "| 10       | Rh precentral               | 2                         |\n",
      "| 11       | Rh paracentral              | 2                         |\n",
      "| 16       | Rh postcentral              | 2                         |\n",
      "| 31       | Rh bankssts                 | 2                         |\n",
      "| 32       | Rh superiortemporal         | 2                         |\n",
      "| 33       | Rh transversetemporal       | 2                         |\n",
      "| 44       | Lh precentral               | 2                         |\n",
      "| 45       | Lh paracentral              | 2                         |\n",
      "| 50       | Lh postcentral              | 2                         |\n",
      "| 66       | Lh superiortemporal         | 2                         |\n",
      "| 67       | Lh transversetemporal       | 2                         |\n",
      "| 18       | Rh superiorparietal         | 3                         |\n",
      "| 52       | Lh superiorparietal         | 3                         |\n",
      "| 5        | Rh parstriangularis         | 4                         |\n",
      "| 6        | Rh parsopercularis          | 4                         |\n",
      "| 13       | Rh caudalanteriorcingulate  | 4                         |\n",
      "| 14       | Rh posteriorcingulate       | 4                         |\n",
      "| 17       | Rh supramarginal            | 4                         |\n",
      "| 34       | Rh insula                   | 4                         |\n",
      "| 40       | Lh parsopercularis          | 4                         |\n",
      "| 47       | Lh caudalanteriorcingulate  | 4                         |\n",
      "| 48       | Lh posteriorcingulate       | 4                         |\n",
      "| 51       | Lh supramarginal            | 4                         |\n",
      "| 68       | Lh insula                   | 4                         |\n",
      "| 1        | Rh lateralorbitofrontal     | 5                         |\n",
      "| 3        | Rh frontalpole              | 5                         |\n",
      "| 4        | Rh medialorbitofrontal      | 5                         |\n",
      "| 27       | Rh entorhinal               | 5                         |\n",
      "| 28       | Rh temporalpole             | 5                         |\n",
      "| 29       | Rh inferiortemporal         | 5                         |\n",
      "| 35       | Lh lateralorbitofrontal     | 5                         |\n",
      "| 37       | Lh frontalpole              | 5                         |\n",
      "| 38       | Lh medialorbitofrontal      | 5                         |\n",
      "| 61       | Lh entorhinal               | 5                         |\n",
      "| 62       | Lh temporalpole             | 5                         |\n",
      "| 63       | Lh inferiortemporal         | 5                         |\n",
      "| 7        | Rh 'rostralmiddlefrontal    | 6                         |\n",
      "| 9        | Rh caudalmiddlefrontal      | 6                         |\n",
      "| 41       | Lh rostralmiddlefrontal     | 6                         |\n",
      "| 2        | Rh parsorbitalis            | 7                         |\n",
      "| 8        | Rh superiorfrontal          | 7                         |\n",
      "| 12       | Rh rostralanteriorcingulate | 7                         |\n",
      "| 15       | Rh isthmuscingulate         | 7                         |\n",
      "| 19       | Rh inferiorparietal         | 7                         |\n",
      "| 20       | Rh precuneus                | 7                         |\n",
      "| 30       | Rh middletemporal           | 7                         |\n",
      "| 36       | Lh parsorbitalis            | 7                         |\n",
      "| 39       | Lh parstriangularis         | 7                         |\n",
      "| 42       | Lh superiorfrontal          | 7                         |\n",
      "| 43       | Lh caudalmiddlefrontal      | 7                         |\n",
      "| 46       | Lh rostralanteriorcingulate | 7                         |\n",
      "| 49       | Lh isthmuscingulate         | 7                         |\n",
      "| 53       | Lh inferiorparietal         | 7                         |\n",
      "| 54       | Lh precuneus                | 7                         |\n",
      "| 60       | Lh parahippocampal          | 7                         |\n",
      "| 64       | Lh middletemporal           | 7                         |\n",
      "| 65       | Lh bankssts                 | 7                         |"
     ]
    },
    {
     "cell_type": "markdown",
     "metadata": {},
     "source": [
      "Create a function to build a graph from an matrix of activated nodes or list of tuples"
     ]
    },
    {
     "cell_type": "code",
     "collapsed": false,
     "input": [
      "from bitsets import bitset  # pip install bitsets\n",
      "\n",
      "# Read labels and\n",
      "BRAIN_LABELS = []\n",
      "filename = os.path.join(NOTEBOOK_INPUT_DIR,'input/brain_labels_68.txt')\n",
      "with open(filename, 'r') as f:\n",
      "    reader = csv.reader(f, delimiter=',')\n",
      "    for row in reader:\n",
      "        BRAIN_LABELS.append(row[0])\n",
      "print('Read: ' + filename)\n",
      "\n",
      "FUNC_IDS = []\n",
      "filename = os.path.join(NOTEBOOK_INPUT_DIR,'input/brain_functional_ids.txt')\n",
      "with open(filename, 'r') as f:\n",
      "    reader = csv.reader(f, delimiter=',')\n",
      "    for row in reader:\n",
      "        FUNC_IDS.append(row[0])\n",
      "print('Read: ' + filename)\n",
      "\n",
      "filename = os.path.join(NOTEBOOK_INPUT_DIR, 'BrainGraph68.txt')\n",
      "A = np.loadtxt(open(filename,\"rb\"), dtype=int, delimiter=',', skiprows=0)\n",
      "# Remove diagonal elements to have a real adjacency matrix\n",
      "A = A - np.diag(np.diag(A))\n",
      "AG = nx.from_numpy_matrix(A)\n",
      "print('Read: ' + filename), '\\n'\n",
      "print 'Average ajacency matrix:', A.shape\n",
      "\n",
      "\n",
      "def create_node_data(layer_id, input_id, weight,\n",
      "                brain_lab=BRAIN_LABELS, brain_func_ids=FUNC_IDS):\n",
      "    data = {}\n",
      "    data['ts_group_id'] = 0\n",
      "    data['layer_pos'] = layer_id\n",
      "    data['input_id'] = input_id\n",
      "    data['func_id'] = brain_func_ids[input_id - 1]  # 0 to 67 entries\n",
      "    data['weight'] = weight\n",
      "\n",
      "    name = brain_lab[input_id - 1]\n",
      "    short_name = ''\n",
      "    brain_side = ''\n",
      "    if name.startswith('lh_'):\n",
      "        short_name = name[3:]\n",
      "        brain_side = 'left'\n",
      "    elif name.startswith('rh_'):\n",
      "        short_name = name[3:]\n",
      "        brain_side = 'right'\n",
      "    else:\n",
      "        short_name = name\n",
      "    data['label'] = short_name\n",
      "    data['brain_side'] = brain_side\n",
      "\n",
      "    return data\n",
      "\n",
      "def build_graph_from_activated_layers(feature, tol, input_graph=AG):\n",
      "    X = feature.reshape((-1, input_graph.number_of_nodes()))\n",
      "    G = nx.Graph()\n",
      "    nb_layers = X.shape[0]\n",
      "    # Create the domain (input_ids) range\n",
      "    ids = tuple(np.arange(1, X.shape[1] + 1))\n",
      "    input_ids = bitset('Graph', ids)\n",
      "    \n",
      "    # Create edges and nodes if needed\n",
      "    for i in xrange(nb_layers-1):\n",
      "        current_nodes = input_ids.frombools(X[i] > tol)\n",
      "        next_nodes = input_ids.frombools(X[i+1] > tol)\n",
      "        for c in current_nodes.members():\n",
      "            src = c + (i * len(ids))\n",
      "            for n in next_nodes.members():\n",
      "                tgt = n + ((i+1) * len(ids))\n",
      "                # Check that input_id are real adajcent in the global adjacency matrix\n",
      "                if input_graph.has_edge(c, n):\n",
      "                    \n",
      "                    if src not in G:\n",
      "                        data = create_node_data(i, c, X[i, c-1])\n",
      "                        G.add_node(src, data)\n",
      "                    \n",
      "                    if tgt not in G:\n",
      "                        data = create_node_data(i+1, n, X[i+1, n-1])\n",
      "                        G.add_node(tgt, data)\n",
      "                    \n",
      "                    G.add_edge(src, tgt)\n",
      "    return G\n",
      "\n",
      "\n",
      "def build_graph_from_feature_tuples(X, tol, input_graph=AG):\n",
      "    G = nx.Graph()\n",
      "    # the list is ordered by layer and input_id\n",
      "    nb_layers = X[-1][0][0] + 1\n",
      "    input_node_count = input_graph.number_of_nodes()\n",
      "    \n",
      "    # Create edges, and crate nodes if needed\n",
      "    for i in xrange(nb_layers-1):\n",
      "        # for each current node\n",
      "        for c in itertools.ifilter(lambda x: x[0][0] == i and x[1] > tol, X):\n",
      "            input_id = c[0][1] + 1\n",
      "            src = input_id + (i * input_node_count)\n",
      "            for n in itertools.ifilter(lambda x: x[0][0] == i+1 and x[1] > tol, X):\n",
      "                tgt_in_id = n[0][1] + 1\n",
      "                tgt = tgt_in_id + ((i+1) * input_node_count)\n",
      "                # Check that input_id are real adajcent in the global adjacency matrix\n",
      "                if input_graph.has_edge(input_id, tgt_in_id):\n",
      "                    \n",
      "                    if src not in G:\n",
      "                        data = create_node_data(i, input_id, c[1])\n",
      "                        G.add_node(src, data)\n",
      "                    \n",
      "                    if tgt not in G:\n",
      "                        data = create_node_data(i+1, tgt_in_id, n[1])\n",
      "                        G.add_node(tgt, data)\n",
      "                    \n",
      "                    G.add_edge(src, tgt)\n",
      "    \n",
      "    return G"
     ],
     "language": "python",
     "metadata": {},
     "outputs": [
      {
       "output_type": "stream",
       "stream": "stdout",
       "text": [
        "Read: /Users/kikohs/work/pro/dybrain/notebook/data/input/brain_labels_68.txt\n",
        "Read: /Users/kikohs/work/pro/dybrain/notebook/data/input/brain_functional_ids.txt\n",
        "Read: /Users/kikohs/work/pro/dybrain/notebook/data/BrainGraph68.txt \n",
        "\n",
        "Average ajacency matrix: (68, 68)\n"
       ]
      }
     ],
     "prompt_number": 145
    },
    {
     "cell_type": "markdown",
     "metadata": {},
     "source": [
      "### Define a Pattern class (inherited from Component)"
     ]
    },
    {
     "cell_type": "code",
     "collapsed": false,
     "input": [
      "class Pattern(Component):\n",
      "    def __init__(self, pattern_id):\n",
      "        super(Component, self).__init__()\n",
      "        self.pattern_id = pattern_id\n",
      "    \n",
      "    def reconstruct_from_array(self, feature, tol=0.0):\n",
      "        self.g = build_graph_from_activated_layers(feature, tol)\n",
      "        self.extract_properties()\n",
      "    \n",
      "    def reconstruct_from_list(self, ordered_feat, tol=0.0):\n",
      "        self.g = build_graph_from_feature_tuples(ordered_feat, tol)\n",
      "        self.extract_properties()\n",
      "    \n",
      "    def __str__(self):\n",
      "        s = 'Pattern id: ' + str(self.pattern_id) + '\\n'\n",
      "        if self.cluster_id is not None:\n",
      "            s += '  cluster id: ' + str(self.cluster_id) + '\\n'\n",
      "        r = '  #nodes: ' + str(self.g.number_of_nodes()) + '\\n' \\\n",
      "        '  #edges: ' + str(self.g.number_of_edges()) + '\\n' \\\n",
      "        '  #width: ' + str(self.width()) + ' -- ' + ', '.join(map(str, self.layers)) + '\\n' \\\n",
      "        '  #height ' + str(self.height()) + '\\n'\n",
      "        return s + r"
     ],
     "language": "python",
     "metadata": {},
     "outputs": [],
     "prompt_number": 146
    },
    {
     "cell_type": "markdown",
     "metadata": {},
     "source": [
      "### Create a sparse feature matrix from our filtered components"
     ]
    },
    {
     "cell_type": "code",
     "collapsed": false,
     "input": [
      "# Each component will be vectorized so the number of columns in the matrix is number_of_nodes * actual_max_width\n",
      "actual_max_width = max(widths) + 1  # the bound is inclusive\n",
      "feat_columns = FUNC_NODE_COUT * actual_max_width\n",
      "feat_rows = len(filtered_components)"
     ],
     "language": "python",
     "metadata": {},
     "outputs": [],
     "prompt_number": 147
    },
    {
     "cell_type": "code",
     "collapsed": false,
     "input": [
      "# Create matrix of features\n",
      "A = sp.sparse.lil_matrix( (feat_rows, feat_columns), dtype=np.int8)\n",
      "print 'Feature matrix:', A.shape\n",
      "# Fill values\n",
      "for i, c in enumerate(filtered_components):  # for each component\n",
      "    for f in c.features():  # for each feature of a component\n",
      "        # calc offset, f[0] is the layer number, f[1] the input_id\n",
      "        x = f[0] * FUNC_NODE_COUT + f[1]\n",
      "        A[i, x] = 1"
     ],
     "language": "python",
     "metadata": {},
     "outputs": [
      {
       "output_type": "stream",
       "stream": "stdout",
       "text": [
        "Feature matrix: (778, 612)\n"
       ]
      }
     ],
     "prompt_number": 138
    },
    {
     "cell_type": "markdown",
     "metadata": {},
     "source": [
      "The matrix A now contains our initial features, we will try to classify or learn a dictionnary of patterns based on those features"
     ]
    },
    {
     "cell_type": "markdown",
     "metadata": {},
     "source": [
      "## K-means analysis"
     ]
    },
    {
     "cell_type": "markdown",
     "metadata": {},
     "source": [
      "Let's run the k-means algorithm, and set the cluster_id in each component"
     ]
    },
    {
     "cell_type": "code",
     "collapsed": false,
     "input": [
      "cluster_count = 16\n",
      "km = sk.cluster.KMeans(n_clusters=cluster_count, init='k-means++',\n",
      "                       n_init=30, max_iter=300, tol=0.0001,\n",
      "                       precompute_distances=True, verbose=0, random_state=None, copy_x=True, n_jobs=4)\n",
      "\n",
      "clusters = km.fit_predict(A)\n",
      "# Set cluster_id in the components\n",
      "hist_comp = defaultdict(int)\n",
      "for i, c in enumerate(clusters):\n",
      "    filtered_components[i].cluster_id = c\n",
      "    hist_comp[c] += 1\n",
      "\n",
      "sort_func = lambda x: x.cluster_id\n",
      "filtered_components = sorted(filtered_components, key=sort_func)\n",
      "grouped_components = [list(g) for k, g in itertools.groupby(filtered_components, sort_func)]"
     ],
     "language": "python",
     "metadata": {},
     "outputs": [],
     "prompt_number": 139
    },
    {
     "cell_type": "markdown",
     "metadata": {},
     "source": [
      "Let's plot some insights about our clusters"
     ]
    },
    {
     "cell_type": "code",
     "collapsed": true,
     "input": [
      "fig = plt.figure(1, (7,5))\n",
      "bar_width = 1\n",
      "plt.bar(np.arange(cluster_count), hist_comp.values(), bar_width)\n",
      "\n",
      "plt.xlabel('Cluster count')\n",
      "plt.ylabel('#Component')\n",
      "plt.title('Component per cluster')\n",
      "\n",
      "plt.tight_layout()\n",
      "plt.show()"
     ],
     "language": "python",
     "metadata": {},
     "outputs": [
      {
       "metadata": {},
       "output_type": "display_data",
       "png": "[encoded data removed]",
       "text": [
        "<matplotlib.figure.Figure at 0x11345d7d0>"
       ]
      }
     ],
     "prompt_number": 140
    },
    {
     "cell_type": "markdown",
     "metadata": {},
     "source": [
      "For each cluster, we look at the repartition of components' nodes and group them by their functional ids"
     ]
    },
    {
     "cell_type": "code",
     "collapsed": true,
     "input": [
      "fig = plt.figure(1, (16,8))\n",
      "nn = cluster_count\n",
      "\n",
      "for i in xrange(nn):\n",
      "    plt.subplot(2, nn/2, i+1)\n",
      "    active_nodes = list(itertools.chain(*[ c.func_ids for c in grouped_components[i]]))\n",
      "    plt.hist(active_nodes, FUNC_ZONES)\n",
      "    plt.title('Cluster id: ' + str(i))\n",
      "\n",
      "plt.tight_layout()\n",
      "plt.show()"
     ],
     "language": "python",
     "metadata": {},
     "outputs": [
      {
       "metadata": {},
       "output_type": "display_data",
       "png": "[encoded data removed]",
       "text": [
        "<matplotlib.figure.Figure at 0x1180caa50>"
       ]
      }
     ],
     "prompt_number": 141
    },
    {
     "cell_type": "markdown",
     "metadata": {},
     "source": [
      "Now that we have the repartition of nodes by clusters, we will extract similar patterns of nodes. A pattern is a subgraph of a component which repeats between across the data."
     ]
    },
    {
     "cell_type": "code",
     "collapsed": false,
     "input": [
      "RECONSTRUCT_TOL = 0.2  # reconstrcution threshold"
     ],
     "language": "python",
     "metadata": {},
     "outputs": [],
     "prompt_number": 154
    },
    {
     "cell_type": "markdown",
     "metadata": {},
     "source": [
      "### Extract patterns from centroids"
     ]
    },
    {
     "cell_type": "code",
     "collapsed": false,
     "input": [
      "centroids = km.cluster_centers_\n",
      "patterns_centroid = []\n",
      "for i, c in enumerate(centroids):\n",
      "    p = Pattern(i)\n",
      "    p.reconstruct_from_array(c, RECONSTRUCT_TOL)\n",
      "    p.cluster_id = i\n",
      "    patterns_centroid.append(p)"
     ],
     "language": "python",
     "metadata": {},
     "outputs": [],
     "prompt_number": 155
    },
    {
     "cell_type": "markdown",
     "metadata": {},
     "source": [
      "### Extract patterns from clusters"
     ]
    },
    {
     "cell_type": "code",
     "collapsed": false,
     "input": [
      "def extract_pattern_from_cluster(pattern_id, comp_list, tol):\n",
      "    \"\"\"Extract pattern from a list of\n",
      "    component in the same cluster\n",
      "    \"\"\"\n",
      "    counter = defaultdict(float) \n",
      "    \n",
      "    for c in comp_list:\n",
      "        for pair in c.features():\n",
      "            counter[pair] += float(1) / len(comp_list) # add one to counter\n",
      "    \n",
      "    # order by key\n",
      "    ordered_feat = sorted(counter.iteritems())\n",
      "    p = Pattern(pattern_id)\n",
      "    p.cluster_id = comp_list[0].cluster_id\n",
      "    p.reconstruct_from_list(ordered_feat, tol)\n",
      "    \n",
      "    return p\n",
      "\n",
      "patterns_cluster = []\n",
      "for i, c in enumerate(grouped_components): \n",
      "    patterns_cluster.append(extract_pattern_from_cluster(i, c, RECONSTRUCT_TOL))"
     ],
     "language": "python",
     "metadata": {},
     "outputs": [],
     "prompt_number": 156
    },
    {
     "cell_type": "code",
     "collapsed": false,
     "input": [
      "p_cluster_0 = patterns_cluster[0]\n",
      "p_centroid_0 = patterns_centroid[0]"
     ],
     "language": "python",
     "metadata": {},
     "outputs": [],
     "prompt_number": 157
    },
    {
     "cell_type": "markdown",
     "metadata": {},
     "source": [
      "The centroid is actually an histogram of the components in the cluster, both method should yield to the same result"
     ]
    },
    {
     "cell_type": "code",
     "collapsed": false,
     "input": [
      "print p_cluster_0\n",
      "print p_centroid_0"
     ],
     "language": "python",
     "metadata": {},
     "outputs": [
      {
       "output_type": "stream",
       "stream": "stdout",
       "text": [
        "Pattern id: 0\n",
        "  cluster id: 0\n",
        "  #nodes: 8\n",
        "  #edges: 6\n",
        "  #width: 3 -- 0, 1, 2\n",
        "  #height 3\n",
        "\n",
        "Pattern id: 0\n",
        "  cluster id: 0\n",
        "  #nodes: 8\n",
        "  #edges: 6\n",
        "  #width: 3 -- 0, 1, 2\n",
        "  #height 3\n",
        "\n"
       ]
      }
     ],
     "prompt_number": 158
    },
    {
     "cell_type": "markdown",
     "metadata": {},
     "source": [
      "Depending on the threshold on the reconstruction, the Pattern can be composed of a sum of subgraphs (which are in fact real patterns ..)"
     ]
    },
    {
     "cell_type": "code",
     "collapsed": false,
     "input": [
      "subgraphs = nx.connected_component_subgraphs(p_cluster_0.g)\n",
      "print len(subgraphs)"
     ],
     "language": "python",
     "metadata": {},
     "outputs": [
      {
       "output_type": "stream",
       "stream": "stdout",
       "text": [
        "2\n"
       ]
      }
     ],
     "prompt_number": 162
    },
    {
     "cell_type": "markdown",
     "metadata": {},
     "source": [
      "### Plot pattern insights"
     ]
    },
    {
     "cell_type": "code",
     "collapsed": true,
     "input": [
      "fig = plt.figure(1, (14,5))\n",
      "ax1 = fig.add_subplot(1,2,1) # 1 row, 2 columns, first plot\n",
      "ax1.bar(np.arange(len(patterns)), [p.height() for p in patterns], 1)\n",
      "plt.xlabel('Pattern id')\n",
      "plt.ylabel('Height')\n",
      "plt.title('Pattern heights')\n",
      "\n",
      "ax2 = fig.add_subplot(1,2,2) # 1 row, 2 columns, first plot\n",
      "ax2.bar(np.arange(len(patterns)), [p.width() for p in patterns], 1)\n",
      "plt.xlabel('Pattern id')\n",
      "plt.ylabel('Width')\n",
      "plt.title('Pattern widths')\n",
      "\n",
      "\n",
      "plt.tight_layout()\n",
      "plt.show()"
     ],
     "language": "python",
     "metadata": {},
     "outputs": [
      {
       "ename": "NameError",
       "evalue": "name 'patterns' is not defined",
       "output_type": "pyerr",
       "traceback": [
        "\u001b[0;31m---------------------------------------------------------------------------\u001b[0m\n\u001b[0;31mNameError\u001b[0m                                 Traceback (most recent call last)",
        "\u001b[0;32m<ipython-input-30-dc27293532c5>\u001b[0m in \u001b[0;36m<module>\u001b[0;34m()\u001b[0m\n\u001b[1;32m      1\u001b[0m \u001b[0mfig\u001b[0m \u001b[0;34m=\u001b[0m \u001b[0mplt\u001b[0m\u001b[0;34m.\u001b[0m\u001b[0mfigure\u001b[0m\u001b[0;34m(\u001b[0m\u001b[0;36m1\u001b[0m\u001b[0;34m,\u001b[0m \u001b[0;34m(\u001b[0m\u001b[0;36m14\u001b[0m\u001b[0;34m,\u001b[0m\u001b[0;36m5\u001b[0m\u001b[0;34m)\u001b[0m\u001b[0;34m)\u001b[0m\u001b[0;34m\u001b[0m\u001b[0m\n\u001b[1;32m      2\u001b[0m \u001b[0max1\u001b[0m \u001b[0;34m=\u001b[0m \u001b[0mfig\u001b[0m\u001b[0;34m.\u001b[0m\u001b[0madd_subplot\u001b[0m\u001b[0;34m(\u001b[0m\u001b[0;36m1\u001b[0m\u001b[0;34m,\u001b[0m\u001b[0;36m2\u001b[0m\u001b[0;34m,\u001b[0m\u001b[0;36m1\u001b[0m\u001b[0;34m)\u001b[0m \u001b[0;31m# 1 row, 2 columns, first plot\u001b[0m\u001b[0;34m\u001b[0m\u001b[0m\n\u001b[0;32m----> 3\u001b[0;31m \u001b[0max1\u001b[0m\u001b[0;34m.\u001b[0m\u001b[0mbar\u001b[0m\u001b[0;34m(\u001b[0m\u001b[0mnp\u001b[0m\u001b[0;34m.\u001b[0m\u001b[0marange\u001b[0m\u001b[0;34m(\u001b[0m\u001b[0mlen\u001b[0m\u001b[0;34m(\u001b[0m\u001b[0mpatterns\u001b[0m\u001b[0;34m)\u001b[0m\u001b[0;34m)\u001b[0m\u001b[0;34m,\u001b[0m \u001b[0;34m[\u001b[0m\u001b[0mp\u001b[0m\u001b[0;34m.\u001b[0m\u001b[0mheight\u001b[0m\u001b[0;34m(\u001b[0m\u001b[0;34m)\u001b[0m \u001b[0;32mfor\u001b[0m \u001b[0mp\u001b[0m \u001b[0;32min\u001b[0m \u001b[0mpatterns\u001b[0m\u001b[0;34m]\u001b[0m\u001b[0;34m,\u001b[0m \u001b[0;36m1\u001b[0m\u001b[0;34m)\u001b[0m\u001b[0;34m\u001b[0m\u001b[0m\n\u001b[0m\u001b[1;32m      4\u001b[0m \u001b[0mplt\u001b[0m\u001b[0;34m.\u001b[0m\u001b[0mxlabel\u001b[0m\u001b[0;34m(\u001b[0m\u001b[0;34m'Pattern id'\u001b[0m\u001b[0;34m)\u001b[0m\u001b[0;34m\u001b[0m\u001b[0m\n\u001b[1;32m      5\u001b[0m \u001b[0mplt\u001b[0m\u001b[0;34m.\u001b[0m\u001b[0mylabel\u001b[0m\u001b[0;34m(\u001b[0m\u001b[0;34m'Height'\u001b[0m\u001b[0;34m)\u001b[0m\u001b[0;34m\u001b[0m\u001b[0m\n",
        "\u001b[0;31mNameError\u001b[0m: name 'patterns' is not defined"
       ]
      },
      {
       "metadata": {},
       "output_type": "display_data",
       "png": "[encoded data removed]",
       "text": [
        "<matplotlib.figure.Figure at 0x115b64cd0>"
       ]
      }
     ],
     "prompt_number": 30
    },
    {
     "cell_type": "code",
     "collapsed": true,
     "input": [
      "fig = plt.figure(1, (16,15))\n",
      "for i, p in enumerate(patterns):\n",
      "    ax = fig.add_subplot(4, len(patterns)/4, i+1)\n",
      "    # create histo for each pattern\n",
      "    counter = Counter(p.func_ids)\n",
      "    # add 0 for missing values\n",
      "    for f in xrange(1, FUNC_ZONES+1):\n",
      "        if f not in counter:\n",
      "            counter[f] = 0\n",
      "    # ordered by func id\n",
      "    val = OrderedDict(sorted(counter.iteritems(), key=lambda t: t[0]))\n",
      "    # plot\n",
      "    ax.bar(np.arange(1, FUNC_ZONES+1), val.values(), 0.8)\n",
      "    plt.xlabel('Functional id')\n",
      "    plt.ylabel('#nodes')\n",
      "    plt.title('Repartition of nodes for pattern ' + str(i))\n",
      "    plt.xticks(np.arange(1, FUNC_ZONES+1))\n",
      "    \n",
      "\n",
      "plt.tight_layout()\n",
      "plt.show()"
     ],
     "language": "python",
     "metadata": {},
     "outputs": []
    },
    {
     "cell_type": "markdown",
     "metadata": {},
     "source": [
      "### Extract patterns from clusters"
     ]
    },
    {
     "cell_type": "code",
     "collapsed": false,
     "input": [],
     "language": "python",
     "metadata": {},
     "outputs": []
    },
    {
     "cell_type": "markdown",
     "metadata": {},
     "source": [
      "## Dictionary learning"
     ]
    },
    {
     "cell_type": "code",
     "collapsed": false,
     "input": [],
     "language": "python",
     "metadata": {},
     "outputs": []
    },
    {
     "cell_type": "code",
     "collapsed": false,
     "input": [],
     "language": "python",
     "metadata": {},
     "outputs": []
    }
   ],
   "metadata": {}
  }
 ]
}