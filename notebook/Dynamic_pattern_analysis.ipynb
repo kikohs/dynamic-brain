{
 "metadata": {
  "name": "",
  "signature": "sha256:5f485d495b2c0ae925dec3e0330f435515da0ca28a52b1bec7e04e23463b1902"
 },
 "nbformat": 3,
 "nbformat_minor": 0,
 "worksheets": [
  {
   "cells": [
    {
     "cell_type": "markdown",
     "metadata": {},
     "source": [
      "# Dynamic brain pattern analysis"
     ]
    },
    {
     "cell_type": "markdown",
     "metadata": {},
     "source": [
      "Researchers:\n",
      "\n",
      "- Kirell Benzi\n",
      "- Benjamin Ricaud\n",
      "\n",
      "This notebook aims at extracting and classfying activation patterns of the brain from a spatio-temporal graph of active brain components."
     ]
    },
    {
     "cell_type": "code",
     "collapsed": false,
     "input": [
      "import sys\n",
      "import os\n",
      "import math\n",
      "import networkx as nx\n",
      "import scipy as sp\n",
      "import numpy as np\n",
      "import matplotlib.pyplot as plt\n",
      "import scipy.io\n",
      "import json\n",
      "from collections import Counter, OrderedDict\n",
      "import sklearn as sk\n",
      "import sklearn.cluster\n",
      "\n",
      "%matplotlib inline\n",
      "# Current notebook folder, change the path here\n",
      "NOTEBOOK_DIR = '/Users/kikohs/work/pro/dybrain/notebook/'\n",
      "NOTEBOOK_INPUT_DIR = os.path.join(NOTEBOOK_DIR, 'data/')\n",
      "NOTEBOOK_OUT_DIR = os.path.join(NOTEBOOK_DIR, 'data/')"
     ],
     "language": "python",
     "metadata": {},
     "outputs": [],
     "prompt_number": 46
    },
    {
     "cell_type": "markdown",
     "metadata": {},
     "source": [
      "## Load the spatio-temporal graph and create a global networkx graph"
     ]
    },
    {
     "cell_type": "markdown",
     "metadata": {},
     "source": [
      "List the different version of the dynamic components graphm"
     ]
    },
    {
     "cell_type": "code",
     "collapsed": false,
     "input": [
      "def list_graph_files():\n",
      "    for root, dirs, files in os.walk(NOTEBOOK_INPUT_DIR):\n",
      "        return [filename for filename in files if filename.startswith('dynamic_components')]\n",
      "\n",
      "graphs = list_graph_files()\n",
      "print(graphs)"
     ],
     "language": "python",
     "metadata": {},
     "outputs": [
      {
       "output_type": "stream",
       "stream": "stdout",
       "text": [
        "['dynamic_components_raw.json', 'dynamic_components_s3_l1_i1.json']\n"
       ]
      }
     ],
     "prompt_number": 47
    },
    {
     "cell_type": "code",
     "collapsed": false,
     "input": [
      "basename = 'dynamic_components'\n",
      "\n",
      "path = os.path.join(NOTEBOOK_INPUT_DIR, graphs[0])\n",
      "\n",
      "blob = json.load(open(path, 'r'))\n",
      "G = nx.Graph()  # it is a directed graph\n",
      "\n",
      "# Create nodes\n",
      "for n in blob['nodes']:\n",
      "    nid = int(n['id'])\n",
      "    n.pop('id', None)\n",
      "    G.add_node(nid, n)\n",
      "\n",
      "# Create edges\n",
      "for e in blob['edges']:\n",
      "    src = int(e['source'])\n",
      "    tgt = int(e['target'])\n",
      "    eid = int(e['id'])\n",
      "    G.add_edge(src, tgt, {'eid': eid})\n",
      "\n",
      "# Add extra graph properties\n",
      "G.graph['layer_count'] = blob['layer_count']\n",
      "G.graph['component_count'] = blob['component_count']\n",
      "G.graph['group_count'] = blob['group_count']\n",
      "\n",
      "print(nx.info(G))"
     ],
     "language": "python",
     "metadata": {},
     "outputs": [
      {
       "output_type": "stream",
       "stream": "stdout",
       "text": [
        "Name: \n",
        "Type: Graph\n",
        "Number of nodes: 33171\n",
        "Number of edges: 81055\n",
        "Average degree:   4.8871\n"
       ]
      }
     ],
     "prompt_number": 48
    },
    {
     "cell_type": "markdown",
     "metadata": {},
     "source": [
      "## Split the global graph into components\n",
      "\n",
      "The graph is a sum of disconnected components. We want to analyze those components to extract similar patterns. Let start by creating a class which represent a component (it is a directed subgraph of the global graph)."
     ]
    },
    {
     "cell_type": "code",
     "collapsed": false,
     "input": [
      "class Component:\n",
      "    def __init__(self, component_id):\n",
      "        self.component_id = component_id\n",
      "        self.g = nx.DiGraph()\n",
      "        self.layers = None\n",
      "        self.input_ids = None\n",
      "        self.feat = None\n",
      "        self.ts_group = 0\n",
      "        self.cluster_id = None\n",
      "    \n",
      "    def add_node(self, nid, data):\n",
      "        self.g.add_node(nid, data)\n",
      "    \n",
      "    def add_edge(self, src, tgt, data):\n",
      "        self.g.add_edge(src, tgt, data)\n",
      "        \n",
      "    def extract_properties(self):\n",
      "        self.layers = []\n",
      "        self.feat = []\n",
      "        \n",
      "        inIds = Counter()\n",
      "        layer_positions = OrderedDict()\n",
      "        last_pos = 0\n",
      "        \n",
      "        for n, d in self.g.nodes_iter(data=True):\n",
      "            self.ts_group = d['ts_group_id']\n",
      "            lp = d['layer_pos']\n",
      "            input_id = d['input_id']\n",
      "            \n",
      "            # needed to compute relative postion (0, 1, 2) of this component\n",
      "            if lp not in layer_positions:\n",
      "                layer_positions[lp] = last_pos\n",
      "                last_pos += 1\n",
      "            \n",
      "            relative_pos = layer_positions[lp]\n",
      "            self.feat.append((relative_pos, input_id))\n",
      "            inIds.update( { input_id : 1} )\n",
      "            \n",
      "        self.layers = sorted(layer_positions.keys())\n",
      "        self.input_ids = OrderedDict(sorted(inIds.iteritems(), key=lambda t: t[0]))\n",
      "\n",
      "    def width(self):\n",
      "        return len(self.layers)\n",
      "    \n",
      "    def height(self):\n",
      "        \"\"\"\n",
      "        Return the count of input_ids (original brain node ids) \n",
      "        over which the component spans\n",
      "        \"\"\"\n",
      "        return len(self.input_ids)\n",
      "    \n",
      "    def features(self):\n",
      "        \"\"\"\n",
      "        Return list of tuples where tuple[0] is the layer \n",
      "        number and tuple[1] the position where the node is activated\n",
      "        \"\"\"\n",
      "        return self.feat\n",
      "    \n",
      "    def node_count(self):\n",
      "        return self.g.number_of_nodes()\n",
      "    \n",
      "    def edge_count(self):\n",
      "        return self.g.number_of_edges()\n",
      "    \n",
      "    def layers(self):\n",
      "        return self.layers\n",
      "    \n",
      "    def __str__(self):\n",
      "        s = 'Component id: ' + str(self.component_id) + '\\n' \\\n",
      "            'group: ' + str(self.ts_group) + '\\n' \\\n",
      "            '#nodes: ' + str(self.g.number_of_nodes()) + '\\n' \\\n",
      "            '#edges: ' + str(self.g.number_of_edges()) + '\\n' \\\n",
      "            '#width: ' + str(self.width()) + ' -- ' + ', '.join(map(str, self.layers)) + '\\n' \\\n",
      "            '#height ' + str(self.height()) + '\\n'\n",
      "        return s "
     ],
     "language": "python",
     "metadata": {},
     "outputs": [],
     "prompt_number": 49
    },
    {
     "cell_type": "markdown",
     "metadata": {},
     "source": [
      "Now that we can represent a component, let's extract them from the global graph"
     ]
    },
    {
     "cell_type": "code",
     "collapsed": false,
     "input": [
      "# Create dictionnary of Components\n",
      "components = []\n",
      "for c in xrange(G.graph['component_count']):\n",
      "    components.append(Component(c))\n",
      "\n",
      "# Split nodes in each component\n",
      "input_ids = set()\n",
      "for n, d in G.nodes_iter(data=True):\n",
      "    comp_id = d['component_num']\n",
      "    components[comp_id].add_node(n, d)\n",
      "    input_ids.add(d['input_id']) \n",
      "    \n",
      "# Split edges in each component\n",
      "for u, v, d in G.edges_iter(data=True):\n",
      "    src = G.node[u]\n",
      "    tgt = G.node[v]\n",
      "    \n",
      "    # edges cannot exist between 2 different components\n",
      "    if src['component_num'] != tgt['component_num']:\n",
      "        raise Exception('Edge between 2 diff components', 'exp')\n",
      "    \n",
      "    comp_id = src['component_num']\n",
      "    # Create a DIRECTED edge from layer position (time)\n",
      "    if src['layer_pos'] > tgt['layer_pos']:\n",
      "        components[comp_id].add_edge(v, u, d)\n",
      "    elif src['layer_pos'] < tgt['layer_pos']: \n",
      "        components[comp_id].add_edge(u, v, d)\n",
      "    else:\n",
      "        raise Exception('same layer', 'exp')\n",
      "    "
     ],
     "language": "python",
     "metadata": {},
     "outputs": [],
     "prompt_number": 50
    },
    {
     "cell_type": "markdown",
     "metadata": {},
     "source": [
      "Since components belong to different patients, it would be useful to group them by patients.\n",
      "\n",
      "Let's do a Patient class"
     ]
    },
    {
     "cell_type": "code",
     "collapsed": false,
     "input": [
      "class Patient:\n",
      "    def __init__(self, patient_id):\n",
      "        self.pid = patient_id\n",
      "        self.components = []\n",
      "    \n",
      "    def add_component(self, comp):\n",
      "        self.components.append(comp)\n",
      "    \n",
      "    def aggregate(self, comp_prop):\n",
      "        return map(lambda x: getattr(x, comp_prop)(), self.components)\n",
      "    \n",
      "    def apply_on_components(self, func, comp_prop):\n",
      "        # Dynamically call funtion defined by user on each component method\n",
      "        return func(self.aggregate(comp_prop))\n",
      "        \n",
      "    def mean(self, comp_prop):\n",
      "        if not self.components:\n",
      "            return None    \n",
      "        f = lambda x: float(sum(x))/ len(x)\n",
      "        # calc mean\n",
      "        m = self.apply_on_components(f, comp_prop)\n",
      "        # standard dev\n",
      "        std = math.sqrt(f(map(lambda x: (x-m)**2, self.aggregate(comp_prop))))\n",
      "        return m, std\n",
      "    \n",
      "    def component_count(self):\n",
      "        return len(self.components)\n",
      "    \n",
      "    def node_count(self):\n",
      "        return self.apply_on_components(sum, 'node_count')\n",
      "    \n",
      "    def edge_count(self):\n",
      "        return self.apply_on_components(sum, 'edge_count')\n",
      "        \n",
      "    def __str__(self):\n",
      "        s = 'Patient id: ' + str(self.pid) + '\\n' \\\n",
      "            '#components: ' + str(self.component_count()) + '\\n' \\\n",
      "            '#nodes: ' + str(self.node_count()) + '\\n' \\\n",
      "            '#edges: ' + str(self.edge_count()) + '\\n' \\\n",
      "            'width (mean, std): ' + str(self.mean('width')) + '\\n' \\\n",
      "            'height (mean, std): ' + str(self.mean('height')) + '\\n'\n",
      "        return s "
     ],
     "language": "python",
     "metadata": {},
     "outputs": [],
     "prompt_number": 51
    },
    {
     "cell_type": "code",
     "collapsed": false,
     "input": [
      "# Create patients\n",
      "patients = [Patient(p) for p in xrange(G.graph['group_count'])]\n",
      "\n",
      "# Extract useful properties from our components\n",
      "for v in components:\n",
      "    v.extract_properties()\n",
      "    patients[v.ts_group].add_component(v)  # store components in patients"
     ],
     "language": "python",
     "metadata": {},
     "outputs": [],
     "prompt_number": 52
    },
    {
     "cell_type": "markdown",
     "metadata": {},
     "source": [
      "## Show some insights about the newly extracted components"
     ]
    },
    {
     "cell_type": "markdown",
     "metadata": {},
     "source": [
      "### Component repartition per group"
     ]
    },
    {
     "cell_type": "code",
     "collapsed": false,
     "input": [
      "fig = plt.figure(1, (7,5))\n",
      "index = np.arange(len(patients))\n",
      "components_per_patient = [p.component_count() for p in patients]\n",
      "rects1 = plt.bar(index, components_per_patient)\n",
      "plt.xlabel('Patients')\n",
      "plt.ylabel('#components')\n",
      "plt.title('Components per patient')\n",
      "plt.show()"
     ],
     "language": "python",
     "metadata": {},
     "outputs": [
      {
       "metadata": {},
       "output_type": "display_data",
       "png": "[encoded data removed]",
       "text": [
        "<matplotlib.figure.Figure at 0x11924b550>"
       ]
      }
     ],
     "prompt_number": 53
    },
    {
     "cell_type": "markdown",
     "metadata": {},
     "source": [
      "### Nodes and edges per patient"
     ]
    },
    {
     "cell_type": "code",
     "collapsed": false,
     "input": [
      "index = np.arange(len(patients))\n",
      "nodes_per_patient = [p.node_count() for p in patients]\n",
      "edges_per_patient = [p.edge_count() for p in patients]\n",
      "\n",
      "fig = plt.figure(num=2, figsize=(8, 5), dpi=326, facecolor='w', edgecolor='k')\n",
      "ax1 = fig.add_subplot(1,2,1) # 1 row, 2 columns, first plot\n",
      "rects1 = ax1.bar(index, nodes_per_patient)\n",
      "plt.xlabel('Patients')\n",
      "plt.ylabel('#nodes')\n",
      "plt.title('Nodes per patient')\n",
      "\n",
      "ax2 = fig.add_subplot(1,2,2)\n",
      "rects1 = ax2.bar(index, edges_per_patient)\n",
      "plt.xlabel('Patients')\n",
      "plt.ylabel('#edges')\n",
      "plt.title('Edges per patient')\n",
      "\n",
      "fig.tight_layout()\n",
      "plt.show()"
     ],
     "language": "python",
     "metadata": {},
     "outputs": [
      {
       "metadata": {},
       "output_type": "display_data",
       "png": "[encoded data removed]",
       "text": [
        "<matplotlib.figure.Figure at 0x1206e9350>"
       ]
      }
     ],
     "prompt_number": 54
    },
    {
     "cell_type": "markdown",
     "metadata": {},
     "source": [
      "### Width and height histograms for components before filtering"
     ]
    },
    {
     "cell_type": "code",
     "collapsed": false,
     "input": [
      "fig = plt.figure(1, (15, 8))\n",
      "ax1 = fig.add_subplot(1,2,1) # 1 row, 2 columns, first plot\n",
      "widths = [c.width() for c in components]\n",
      "ax1.hist(widths, 16, range=[0, 15])\n",
      "plt.xlabel('Width')\n",
      "plt.ylabel('#Component')\n",
      "plt.title('Component per width')\n",
      "# plt.xticks(np.arange(2, 25))  # Cannot have a width < 2 (1 edge is at least 2 timesteps)\n",
      "\n",
      "\n",
      "ax2 = fig.add_subplot(1,2,2)\n",
      "heights = [c.height() for c in components]\n",
      "ax2.hist(heights, 16)\n",
      "plt.xlabel('Height')\n",
      "plt.ylabel('#Component')\n",
      "plt.title('Component per height')\n",
      "# plt.xticks(np.arange(40))\n",
      "\n",
      "plt.tight_layout()\n",
      "plt.show()"
     ],
     "language": "python",
     "metadata": {},
     "outputs": [
      {
       "metadata": {},
       "output_type": "display_data",
       "png": "[encoded data removed]",
       "text": [
        "<matplotlib.figure.Figure at 0x1192dd290>"
       ]
      }
     ],
     "prompt_number": 55
    },
    {
     "cell_type": "markdown",
     "metadata": {},
     "source": [
      "# Filter noisy components"
     ]
    },
    {
     "cell_type": "markdown",
     "metadata": {},
     "source": [
      "## Set filtering params"
     ]
    },
    {
     "cell_type": "code",
     "collapsed": false,
     "input": [
      "filt_min_width = 3\n",
      "filt_max_width = 10\n",
      "filt_min_height = 4\n",
      "filt_max_height = 20"
     ],
     "language": "python",
     "metadata": {},
     "outputs": [],
     "prompt_number": 56
    },
    {
     "cell_type": "code",
     "collapsed": false,
     "input": [
      "filtered_components = [c for c in components \n",
      "               if (filt_min_height <= c.height() <= filt_max_height) and (filt_min_width <= c.width() <= filt_max_width)]"
     ],
     "language": "python",
     "metadata": {},
     "outputs": [],
     "prompt_number": 57
    },
    {
     "cell_type": "code",
     "collapsed": false,
     "input": [
      "print 'Before filtering:', len(components), 'components'\n",
      "print 'After filtering:', len(filtered_components), 'components'"
     ],
     "language": "python",
     "metadata": {},
     "outputs": [
      {
       "output_type": "stream",
       "stream": "stdout",
       "text": [
        "Before filtering: 3514 components\n",
        "After filtering: 768 components\n"
       ]
      }
     ],
     "prompt_number": 58
    },
    {
     "cell_type": "markdown",
     "metadata": {},
     "source": [
      "### Components after filtering"
     ]
    },
    {
     "cell_type": "code",
     "collapsed": false,
     "input": [
      "del patients\n",
      "# Create patients\n",
      "patients = [Patient(p) for p in xrange(G.graph['group_count'])]\n",
      "\n",
      "# Extract useful properties from our components\n",
      "for v in filtered_components:\n",
      "    v.extract_properties()\n",
      "    patients[v.ts_group].add_component(v)  # store components in patients"
     ],
     "language": "python",
     "metadata": {},
     "outputs": [],
     "prompt_number": 59
    },
    {
     "cell_type": "code",
     "collapsed": false,
     "input": [
      "fig = plt.figure(1, (7,5))\n",
      "index = np.arange(len(patients))\n",
      "components_per_patient = [p.component_count() for p in patients]\n",
      "rects1 = plt.bar(index, components_per_patient)\n",
      "plt.xlabel('Patients')\n",
      "plt.ylabel('#components')\n",
      "plt.title('Components per patient')\n",
      "plt.show()"
     ],
     "language": "python",
     "metadata": {},
     "outputs": [
      {
       "metadata": {},
       "output_type": "display_data",
       "png": "[encoded data removed]",
       "text": [
        "<matplotlib.figure.Figure at 0x119241e90>"
       ]
      }
     ],
     "prompt_number": 60
    },
    {
     "cell_type": "code",
     "collapsed": false,
     "input": [
      "fig = plt.figure(1, (15, 8))\n",
      "ax1 = fig.add_subplot(1,2,1) # 1 row, 2 columns, first plot\n",
      "widths = [c.width() for c in filtered_components]\n",
      "ax1.hist(widths, 16, range=[0, 15])\n",
      "plt.xlabel('Width')\n",
      "plt.ylabel('#Component')\n",
      "plt.title('Component per width')\n",
      "# plt.xticks(np.arange(2, 25))  # Cannot have a width < 2 (1 edge is at least 2 timesteps)\n",
      "\n",
      "\n",
      "ax2 = fig.add_subplot(1,2,2)\n",
      "heights = [c.height() for c in filtered_components]\n",
      "ax2.hist(heights, 100, range=[0, filt_max_height])\n",
      "plt.xlabel('Height')\n",
      "plt.ylabel('#Component')\n",
      "plt.title('Component per height')\n",
      "# plt.xticks(np.arange(40))\n",
      "\n",
      "plt.tight_layout()\n",
      "plt.show()"
     ],
     "language": "python",
     "metadata": {},
     "outputs": [
      {
       "metadata": {},
       "output_type": "display_data",
       "png": "[encoded data removed]",
       "text": [
        "<matplotlib.figure.Figure at 0x120113890>"
       ]
      }
     ],
     "prompt_number": 61
    },
    {
     "cell_type": "markdown",
     "metadata": {},
     "source": [
      " # Pattern extraction"
     ]
    },
    {
     "cell_type": "markdown",
     "metadata": {},
     "source": [
      "### Create a sparse feature matrix from our filtered components"
     ]
    },
    {
     "cell_type": "code",
     "collapsed": false,
     "input": [
      "# Each component will be vectorized so the number of columns in the matrix is number_of_nodes * actual_max_width\n",
      "number_of_nodes = 68\n",
      "actual_max_width = max(widths) + 1  # the bound is inclusive\n",
      "feat_columns = number_of_nodes * actual_max_width\n",
      "feat_rows = len(filtered_components)"
     ],
     "language": "python",
     "metadata": {},
     "outputs": [],
     "prompt_number": 62
    },
    {
     "cell_type": "code",
     "collapsed": false,
     "input": [
      "# Create matrix of features\n",
      "A = sp.sparse.lil_matrix( (feat_rows, feat_columns), dtype=np.int8)\n",
      "print 'Feature matrix:', A.shape\n",
      "# Fill values\n",
      "for i, c in enumerate(filtered_components):  # for each component\n",
      "    for f in c.features():  # for each feature of a component\n",
      "        # calc offset, f[0] is the layer number, f[1] the input_id\n",
      "        x = f[0] * number_of_nodes + f[1]\n",
      "        A[i, x] = 1"
     ],
     "language": "python",
     "metadata": {},
     "outputs": [
      {
       "output_type": "stream",
       "stream": "stdout",
       "text": [
        "Feature matrix: (768, 748)\n"
       ]
      }
     ],
     "prompt_number": 63
    },
    {
     "cell_type": "markdown",
     "metadata": {},
     "source": [
      "The matrix A now contains our initial features, we will try to classify or learn a dictionnary of patterns based on those features"
     ]
    },
    {
     "cell_type": "markdown",
     "metadata": {},
     "source": [
      "## K-means analysis"
     ]
    },
    {
     "cell_type": "markdown",
     "metadata": {},
     "source": [
      "Let's run the k-means algorithm, and set the cluster_id in each component"
     ]
    },
    {
     "cell_type": "code",
     "collapsed": false,
     "input": [
      "cluster_count = 17\n",
      "km = sk.cluster.KMeans(n_clusters=cluster_count, init='k-means++',\n",
      "                       n_init=20, max_iter=300, tol=0.0001,\n",
      "                       precompute_distances=True, verbose=0, random_state=None, copy_x=True, n_jobs=4)\n",
      "\n",
      "clusters = km.fit_predict(A)\n",
      "# Set cluster_id in the components\n",
      "for i, c in enumerate(clusters):\n",
      "    filtered_components[i].cluster_id = c"
     ],
     "language": "python",
     "metadata": {},
     "outputs": [],
     "prompt_number": 169
    },
    {
     "cell_type": "markdown",
     "metadata": {},
     "source": [
      "Let's plot some insights about our clusters"
     ]
    },
    {
     "cell_type": "code",
     "collapsed": false,
     "input": [
      "fig = plt.figure(1, (7,5))\n",
      "plt.hist(clusters, cluster_count)\n",
      "\n",
      "plt.xlabel('Cluster count')\n",
      "plt.ylabel('#Component')\n",
      "plt.title('Component per cluster')\n",
      "\n",
      "plt.tight_layout()\n",
      "plt.show()"
     ],
     "language": "python",
     "metadata": {},
     "outputs": [
      {
       "metadata": {},
       "output_type": "display_data",
       "png": "[encoded data removed]",
       "text": [
        "<matplotlib.figure.Figure at 0x1117a3d90>"
       ]
      }
     ],
     "prompt_number": 172
    },
    {
     "cell_type": "code",
     "collapsed": false,
     "input": [
      "cluster_13 = [ c for c in filtered_components if c.cluster_id == 14]\n",
      "        "
     ],
     "language": "python",
     "metadata": {},
     "outputs": [],
     "prompt_number": 173
    },
    {
     "cell_type": "code",
     "collapsed": false,
     "input": [
      "func_ids = []\n",
      "for c in cluster_13:\n",
      "    for i in c.g.nodes_iter(data=True):\n",
      "        func_ids.append(int(i[1]['func_id']))"
     ],
     "language": "python",
     "metadata": {},
     "outputs": [],
     "prompt_number": 174
    },
    {
     "cell_type": "code",
     "collapsed": false,
     "input": [
      "fig = plt.figure(1, (7,5))\n",
      "plt.hist(func_ids, 7)\n",
      "\n",
      "plt.xlabel('Functional ids')\n",
      "plt.ylabel('#nodes')\n",
      "plt.title('Functional components')\n",
      "\n",
      "plt.tight_layout()\n",
      "plt.show()"
     ],
     "language": "python",
     "metadata": {},
     "outputs": [
      {
       "metadata": {},
       "output_type": "display_data",
       "png": "[encoded data removed]",
       "text": [
        "<matplotlib.figure.Figure at 0x11136b850>"
       ]
      }
     ],
     "prompt_number": 175
    },
    {
     "cell_type": "code",
     "collapsed": false,
     "input": [],
     "language": "python",
     "metadata": {},
     "outputs": [],
     "prompt_number": 160
    },
    {
     "cell_type": "code",
     "collapsed": false,
     "input": [],
     "language": "python",
     "metadata": {},
     "outputs": []
    }
   ],
   "metadata": {}
  }
 ]
}