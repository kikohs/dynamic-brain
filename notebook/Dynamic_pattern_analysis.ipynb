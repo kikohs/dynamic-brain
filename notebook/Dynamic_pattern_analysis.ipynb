{
 "metadata": {
  "name": "",
  "signature": "sha256:4d1836080aa7fd32f0ad09357138ee29318ab41bcf03387763a82211bfc60164"
 },
 "nbformat": 3,
 "nbformat_minor": 0,
 "worksheets": [
  {
   "cells": [
    {
     "cell_type": "markdown",
     "metadata": {},
     "source": [
      "# Dynamic brain pattern analysis"
     ]
    },
    {
     "cell_type": "markdown",
     "metadata": {},
     "source": [
      "Researchers:\n",
      "\n",
      "- Kirell Benzi\n",
      "- Benjamin Ricaud\n",
      "\n",
      "This notebook aims at extracting and classfying activation patterns of the brain from a spatio-temporal graph of active brain components."
     ]
    },
    {
     "cell_type": "code",
     "collapsed": false,
     "input": [
      "import sys\n",
      "import os\n",
      "import math\n",
      "import networkx as nx\n",
      "import scipy as sp\n",
      "import numpy as np\n",
      "import matplotlib.pyplot as plt\n",
      "import scipy.io\n",
      "import json\n",
      "from collections import Counter, OrderedDict\n",
      "\n",
      "%matplotlib inline\n",
      "# Current notebook folder, change the path here\n",
      "NOTEBOOK_DIR = '/Users/kikohs/work/pro/dybrain/notebook/'\n",
      "NOTEBOOK_INPUT_DIR = os.path.join(NOTEBOOK_DIR, 'data/')\n",
      "NOTEBOOK_OUT_DIR = os.path.join(NOTEBOOK_DIR, 'data/')"
     ],
     "language": "python",
     "metadata": {},
     "outputs": [],
     "prompt_number": 14
    },
    {
     "cell_type": "markdown",
     "metadata": {},
     "source": [
      "## Load the spatio-temporal graph and create a global networkx graph"
     ]
    },
    {
     "cell_type": "markdown",
     "metadata": {},
     "source": [
      "List the different version of the dynamic components graphm"
     ]
    },
    {
     "cell_type": "code",
     "collapsed": false,
     "input": [
      "def list_graph_files():\n",
      "    for root, dirs, files in os.walk(NOTEBOOK_INPUT_DIR):\n",
      "        return [filename for filename in files if filename.startswith('dynamic_components')]\n",
      "\n",
      "graphs = list_graph_files()\n",
      "print(graphs)"
     ],
     "language": "python",
     "metadata": {},
     "outputs": [
      {
       "output_type": "stream",
       "stream": "stdout",
       "text": [
        "['dynamic_components_raw.json', 'dynamic_components_s3_l1_i1.json']\n"
       ]
      }
     ],
     "prompt_number": 15
    },
    {
     "cell_type": "code",
     "collapsed": false,
     "input": [
      "basename = 'dynamic_components'\n",
      "\n",
      "path = os.path.join(NOTEBOOK_INPUT_DIR, graphs[0])\n",
      "\n",
      "blob = json.load(open(path, 'r'))\n",
      "G = nx.Graph()  # it is a directed graph\n",
      "\n",
      "# Create nodes\n",
      "for n in blob['nodes']:\n",
      "    nid = int(n['id'])\n",
      "    n.pop('id', None)\n",
      "    G.add_node(nid, n)\n",
      "\n",
      "# Create edges\n",
      "for e in blob['edges']:\n",
      "    src = int(e['source'])\n",
      "    tgt = int(e['target'])\n",
      "    eid = int(e['id'])\n",
      "    G.add_edge(src, tgt, {'eid': eid})\n",
      "\n",
      "# Add extra graph properties\n",
      "G.graph['layer_count'] = blob['layer_count']\n",
      "G.graph['component_count'] = blob['component_count']\n",
      "G.graph['group_count'] = blob['group_count']\n",
      "\n",
      "print(nx.info(G))"
     ],
     "language": "python",
     "metadata": {},
     "outputs": [
      {
       "output_type": "stream",
       "stream": "stdout",
       "text": [
        "Name: \n",
        "Type: Graph\n",
        "Number of nodes: 8774\n",
        "Number of edges: 13729\n",
        "Average degree:   3.1295\n"
       ]
      }
     ],
     "prompt_number": 16
    },
    {
     "cell_type": "markdown",
     "metadata": {},
     "source": [
      "## Split the global graph into components\n",
      "\n",
      "The graph is a sum of disconnected components. We want to analyze those components to extract similar patterns. Let start by creating a class which represent a component (it is a directed subgraph of the global graph)."
     ]
    },
    {
     "cell_type": "code",
     "collapsed": false,
     "input": [
      "class Component:\n",
      "    def __init__(self, component_id):\n",
      "        self.component_id = component_id\n",
      "        self.g = nx.DiGraph()\n",
      "        self.layers = None\n",
      "        self.input_ids = None\n",
      "        self.feat = None\n",
      "        self.ts_group = 0\n",
      "    \n",
      "    def add_node(self, nid, data):\n",
      "        self.g.add_node(nid, data)\n",
      "    \n",
      "    def add_edge(self, src, tgt, data):\n",
      "        self.g.add_edge(src, tgt, data)\n",
      "        \n",
      "    def extract_properties(self):\n",
      "        inIds = Counter()\n",
      "        self.layers = []\n",
      "        layers = set()\n",
      "        self.feat = []\n",
      "        for n, d in self.g.nodes_iter(data=True):\n",
      "            self.ts_group = d['ts_group_id']\n",
      "            layer_pos = d['layer_pos']\n",
      "            input_id = d['input_id']\n",
      "            self.feat.append((layer_pos, input_id))\n",
      "            layers.add(layer_pos)\n",
      "            inIds.update( { input_id : 1} )\n",
      "            \n",
      "        self.layers = list(layers)\n",
      "        self.input_ids = OrderedDict(sorted(inIds.items(), key=lambda t: t[0]))\n",
      "\n",
      "    def width(self):\n",
      "        return len(self.layers)\n",
      "    \n",
      "    def height(self):\n",
      "        \"\"\"\n",
      "        Return the count of input_ids (original brain node ids) \n",
      "        over which the component spans\n",
      "        \"\"\"\n",
      "        return len(self.input_ids)\n",
      "    \n",
      "    def features(self):\n",
      "        \"\"\"\n",
      "        Return list of tuples where tuple[0] is the layer \n",
      "        number and tuple[1] the position where the node is activated\n",
      "        \"\"\"\n",
      "        return self.feat\n",
      "    \n",
      "    def node_count(self):\n",
      "        return self.g.number_of_nodes()\n",
      "    \n",
      "    def edge_count(self):\n",
      "        return self.g.number_of_edges()\n",
      "    \n",
      "    def layers(self):\n",
      "        return self.layers\n",
      "    \n",
      "    def __str__(self):\n",
      "        s = 'Component id: ' + str(self.component_id) + '\\n' \\\n",
      "            'group: ' + str(self.ts_group) + '\\n' \\\n",
      "            '#nodes: ' + str(self.g.number_of_nodes()) + '\\n' \\\n",
      "            '#edges: ' + str(self.g.number_of_edges()) + '\\n' \\\n",
      "            '#width: ' + str(self.width()) + ' -- ' + ', '.join(map(str, self.layers)) + '\\n' \\\n",
      "            '#height ' + str(self.height()) + '\\n'\n",
      "        return s "
     ],
     "language": "python",
     "metadata": {},
     "outputs": [],
     "prompt_number": 17
    },
    {
     "cell_type": "markdown",
     "metadata": {},
     "source": [
      "Now that we can represent a component, let's extract them from the global graph"
     ]
    },
    {
     "cell_type": "code",
     "collapsed": false,
     "input": [
      "# Create dictionnary of Components\n",
      "components = []\n",
      "for c in xrange(G.graph['component_count']):\n",
      "    components.append(Component(c))\n",
      "\n",
      "# Split nodes in each component\n",
      "input_ids = set()\n",
      "for n, d in G.nodes_iter(data=True):\n",
      "    comp_id = d['component_num']\n",
      "    components[comp_id].add_node(n, d)\n",
      "    input_ids.add(d['input_id']) \n",
      "\n",
      "maximalHeight = len(input_ids)\n",
      "    \n",
      "# Split edges in each component\n",
      "for u, v, d in G.edges_iter(data=True):\n",
      "    src = G.node[u]\n",
      "    tgt = G.node[v]\n",
      "    \n",
      "    # edges cannot exist between 2 different components\n",
      "    if src['component_num'] != tgt['component_num']:\n",
      "        raise Exception('Edge between 2 diff components', 'exp')\n",
      "    \n",
      "    comp_id = src['component_num']\n",
      "    # Create a DIRECTED edge from layer position (time)\n",
      "    if src['layer_pos'] > tgt['layer_pos']:\n",
      "        components[comp_id].add_edge(v, u, d)\n",
      "    elif src['layer_pos'] < tgt['layer_pos']: \n",
      "        components[comp_id].add_edge(u, v, d)\n",
      "    else:\n",
      "        raise Exception('same layer', 'exp')\n",
      "    "
     ],
     "language": "python",
     "metadata": {},
     "outputs": [],
     "prompt_number": 18
    },
    {
     "cell_type": "markdown",
     "metadata": {},
     "source": [
      "Since components belong to different patients, it would be useful to group them by patients.\n",
      "\n",
      "Let's do a Patient class"
     ]
    },
    {
     "cell_type": "code",
     "collapsed": false,
     "input": [
      "class Patient:\n",
      "    def __init__(self, patient_id):\n",
      "        self.pid = patient_id\n",
      "        self.components = []\n",
      "    \n",
      "    def add_component(self, comp):\n",
      "        self.components.append(comp)\n",
      "    \n",
      "    def aggregate(self, comp_prop):\n",
      "        return map(lambda x: getattr(x, comp_prop)(), self.components)\n",
      "    \n",
      "    def apply_on_components(self, func, comp_prop):\n",
      "        # Dynamically call funtion defined by user on each component method\n",
      "        return func(self.aggregate(comp_prop))\n",
      "        \n",
      "    def mean(self, comp_prop):\n",
      "        if not self.components:\n",
      "            return None    \n",
      "        f = lambda x: float(sum(x))/ len(x)\n",
      "        # calc mean\n",
      "        m = self.apply_on_components(f, comp_prop)\n",
      "        # standard dev\n",
      "        var = math.sqrt(f(map(lambda x: (x-m)**2, self.aggregate(comp_prop))))\n",
      "        return m, var\n",
      "    \n",
      "    def component_count(self):\n",
      "        return len(self.components)\n",
      "    \n",
      "    def node_count(self):\n",
      "        return self.apply_on_components(sum, 'node_count')\n",
      "    \n",
      "    def edge_count(self):\n",
      "        return self.apply_on_components(sum, 'edge_count')\n",
      "        \n",
      "    def __str__(self):\n",
      "        s = 'Patient id: ' + str(self.pid) + '\\n' \\\n",
      "            '#components: ' + str(self.component_count()) + '\\n' \\\n",
      "            '#nodes: ' + str(self.node_count()) + '\\n' \\\n",
      "            '#edges: ' + str(self.edge_count()) + '\\n' \\\n",
      "            'width (mean, std): ' + str(self.mean('width')) + '\\n' \\\n",
      "            'height (mean, std): ' + str(self.mean('height')) + '\\n'\n",
      "        return s "
     ],
     "language": "python",
     "metadata": {},
     "outputs": [],
     "prompt_number": 19
    },
    {
     "cell_type": "code",
     "collapsed": false,
     "input": [
      "# Create patients\n",
      "patients = [Patient(p) for p in xrange(G.graph['group_count'])]\n",
      "\n",
      "# Extract useful properties from our components\n",
      "for v in components:\n",
      "    v.extract_properties()\n",
      "    patients[v.ts_group].add_component(v)  # store components in patients"
     ],
     "language": "python",
     "metadata": {},
     "outputs": [],
     "prompt_number": 20
    },
    {
     "cell_type": "markdown",
     "metadata": {},
     "source": [
      "## Show some insights about the newly extracted components"
     ]
    },
    {
     "cell_type": "markdown",
     "metadata": {},
     "source": [
      "### Component repartition per group"
     ]
    },
    {
     "cell_type": "code",
     "collapsed": false,
     "input": [
      "fig = plt.figure(1, (7,5))\n",
      "index = np.arange(len(patients))\n",
      "components_per_patient = [p.component_count() for p in patients]\n",
      "rects1 = plt.bar(index, components_per_patient)\n",
      "plt.xlabel('Patients')\n",
      "plt.ylabel('#components')\n",
      "plt.title('Components per patient')\n",
      "plt.show()"
     ],
     "language": "python",
     "metadata": {},
     "outputs": [
      {
       "metadata": {},
       "output_type": "display_data",
       "png": "[encoded data removed]",
       "text": [
        "<matplotlib.figure.Figure at 0x116189650>"
       ]
      }
     ],
     "prompt_number": 21
    },
    {
     "cell_type": "markdown",
     "metadata": {},
     "source": [
      "### Nodes and edges per patient"
     ]
    },
    {
     "cell_type": "code",
     "collapsed": false,
     "input": [
      "index = np.arange(len(patients))\n",
      "nodes_per_patient = [p.node_count() for p in patients]\n",
      "edges_per_patient = [p.edge_count() for p in patients]\n",
      "\n",
      "fig = plt.figure(num=2, figsize=(8, 5), dpi=326, facecolor='w', edgecolor='k')\n",
      "ax1 = fig.add_subplot(1,2,1) # 1 row, 2 columns, first plot\n",
      "rects1 = ax1.bar(index, nodes_per_patient)\n",
      "plt.xlabel('Patients')\n",
      "plt.ylabel('#nodes')\n",
      "plt.title('Nodes per patient')\n",
      "\n",
      "ax2 = fig.add_subplot(1,2,2)\n",
      "rects1 = ax2.bar(index, edges_per_patient)\n",
      "plt.xlabel('Patients')\n",
      "plt.ylabel('#edges')\n",
      "plt.title('Edges per patient')\n",
      "\n",
      "fig.tight_layout()\n",
      "plt.show()"
     ],
     "language": "python",
     "metadata": {},
     "outputs": [
      {
       "metadata": {},
       "output_type": "display_data",
       "png": "[encoded data removed]",
       "text": [
        "<matplotlib.figure.Figure at 0x11cdf3d10>"
       ]
      }
     ],
     "prompt_number": 22
    },
    {
     "cell_type": "markdown",
     "metadata": {},
     "source": [
      "### Width and height histograms for components"
     ]
    },
    {
     "cell_type": "code",
     "collapsed": false,
     "input": [
      "fig = plt.figure(1, (15, 8))\n",
      "ax1 = fig.add_subplot(1,2,1) # 1 row, 2 columns, first plot\n",
      "widths = [c.width() for c in components]\n",
      "ax1.hist(widths, 16, range=[0, 15])\n",
      "plt.xlabel('Width')\n",
      "plt.ylabel('#Component')\n",
      "plt.title('Component per width')\n",
      "# plt.xticks(np.arange(2, 25))  # Cannot have a width < 2 (1 edge is at least 2 timesteps)\n",
      "\n",
      "\n",
      "ax2 = fig.add_subplot(1,2,2)\n",
      "heights = [c.height() for c in components]\n",
      "ax2.hist(heights, 16, range=[0, 15])\n",
      "plt.xlabel('Height')\n",
      "plt.ylabel('#Component')\n",
      "plt.title('Component per height')\n",
      "# plt.xticks(np.arange(40))\n",
      "\n",
      "plt.tight_layout()\n",
      "plt.show()"
     ],
     "language": "python",
     "metadata": {},
     "outputs": [
      {
       "metadata": {},
       "output_type": "display_data",
       "png": "[encoded data removed]",
       "text": [
        "<matplotlib.figure.Figure at 0x111a33990>"
       ]
      }
     ],
     "prompt_number": 23
    },
    {
     "cell_type": "markdown",
     "metadata": {},
     "source": [
      "# Filter noisy components"
     ]
    },
    {
     "cell_type": "markdown",
     "metadata": {},
     "source": [
      "## Set filtering params"
     ]
    },
    {
     "cell_type": "code",
     "collapsed": false,
     "input": [
      "min_width = 3\n",
      "max_width = 10\n",
      "min_height = 2\n",
      "max_height = 10"
     ],
     "language": "python",
     "metadata": {},
     "outputs": [],
     "prompt_number": 24
    },
    {
     "cell_type": "code",
     "collapsed": false,
     "input": [
      "comp_filter = [c for c in components if min_height <= c.height() <= max_height and min_width <= c.width() <= max_width]"
     ],
     "language": "python",
     "metadata": {},
     "outputs": [],
     "prompt_number": 25
    },
    {
     "cell_type": "code",
     "collapsed": false,
     "input": [
      "print 'Before filtering:', len(components), 'components'\n",
      "print 'After filtering:', len(comp_filter), 'components'"
     ],
     "language": "python",
     "metadata": {},
     "outputs": [
      {
       "output_type": "stream",
       "stream": "stdout",
       "text": [
        "Before filtering: 1723 components\n",
        "After filtering: 479 components\n"
       ]
      }
     ],
     "prompt_number": 26
    },
    {
     "cell_type": "code",
     "collapsed": false,
     "input": [],
     "language": "python",
     "metadata": {},
     "outputs": [],
     "prompt_number": 26
    },
    {
     "cell_type": "code",
     "collapsed": false,
     "input": [],
     "language": "python",
     "metadata": {},
     "outputs": [],
     "prompt_number": 26
    },
    {
     "cell_type": "code",
     "collapsed": false,
     "input": [],
     "language": "python",
     "metadata": {},
     "outputs": [],
     "prompt_number": 26
    },
    {
     "cell_type": "code",
     "collapsed": false,
     "input": [],
     "language": "python",
     "metadata": {},
     "outputs": [],
     "prompt_number": 26
    }
   ],
   "metadata": {}
  }
 ]
}