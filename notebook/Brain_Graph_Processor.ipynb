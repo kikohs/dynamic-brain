{
 "metadata": {
  "name": "",
  "signature": "sha256:e8a6bebe7be314dcdee924891579f2c9842a2a7922b3f2d2ebfdc186de1b2ac8"
 },
 "nbformat": 3,
 "nbformat_minor": 0,
 "worksheets": [
  {
   "cells": [
    {
     "cell_type": "markdown",
     "metadata": {},
     "source": [
      "# Brain Graph Exporter\n",
      "\n",
      "## Importing the brain Graph data from raw files to create an 'augmented graph'\n",
      "\n",
      "Researchers:\n",
      "\n",
      "- Kirell Benzi\n",
      "- Benjamin Ricaud"
     ]
    },
    {
     "cell_type": "code",
     "collapsed": false,
     "input": [
      "import sys\n",
      "import os\n",
      "import subprocess #  to call mld\n",
      "import shutil\n",
      "import csv\n",
      "import json\n",
      "import networkx as nx\n",
      "from networkx.readwrite import json_graph\n",
      "import scipy as sp\n",
      "import scipy.io\n",
      "import numpy as np\n",
      "import matplotlib.pyplot as plt\n",
      "import sklearn as sk\n",
      "from sklearn import preprocessing\n",
      "\n",
      "\n",
      "%matplotlib inline\n",
      "\n",
      "# Current notebook folder, change the path here\n",
      "NOTEBOOK_DIR = '/Users/kikohs/work/pro/dybrain/notebook/'\n",
      "NOTEBOOK_INPUT_DIR = os.path.join(NOTEBOOK_DIR, 'data/input/')\n",
      "NOTEBOOK_OUT_DIR = os.path.join(NOTEBOOK_DIR, 'data/')\n",
      "\n",
      "MLD_ROOT_DIR = '/Users/kikohs/work/pro/mld/' # change path here to mld bin dir\n",
      "MLD_BIN_DIR = os.path.join(MLD_ROOT_DIR, 'bin/')  "
     ],
     "language": "python",
     "metadata": {},
     "outputs": [],
     "prompt_number": 1
    },
    {
     "cell_type": "markdown",
     "metadata": {},
     "source": [
      "## Loading brain labels"
     ]
    },
    {
     "cell_type": "markdown",
     "metadata": {},
     "source": [
      "The adjacency matrix for the brain is on the full 83 regions but we re only interested in the cortical region which is composed of 68 regions. We should find the correspondace between regions and remove lines from the adjacency matrix."
     ]
    },
    {
     "cell_type": "code",
     "collapsed": false,
     "input": [
      "brainLabels = []\n",
      "filename = os.path.join(NOTEBOOK_INPUT_DIR,'brain_labels_82.txt')\n",
      "with open(filename, 'r') as f:\n",
      "    reader = csv.reader(f, delimiter=',')\n",
      "    for row in reader:\n",
      "        brainLabels.append(row[0])\n",
      "print('Read: ' + filename)\n",
      "\n",
      "brainLabelsFunc = []\n",
      "filename = os.path.join(NOTEBOOK_INPUT_DIR,'brain_labels_68.txt')\n",
      "with open(filename, 'r') as f:\n",
      "    reader = csv.reader(f, delimiter=',')\n",
      "    for row in reader:\n",
      "        brainLabelsFunc.append(row[0])\n",
      "print('Read: ' + filename)\n",
      "\n",
      "brainFuncIds = []\n",
      "filename = os.path.join(NOTEBOOK_INPUT_DIR,'brain_functional_ids.txt')\n",
      "with open(filename, 'r') as f:\n",
      "    reader = csv.reader(f, delimiter=',')\n",
      "    for row in reader:\n",
      "        brainFuncIds.append(row[0])\n",
      "print('Read: ' + filename)"
     ],
     "language": "python",
     "metadata": {},
     "outputs": [
      {
       "output_type": "stream",
       "stream": "stdout",
       "text": [
        "Read: /Users/kikohs/work/pro/dybrain/notebook/data/input/brain_labels_82.txt\n",
        "Read: /Users/kikohs/work/pro/dybrain/notebook/data/input/brain_labels_68.txt\n",
        "Read: /Users/kikohs/work/pro/dybrain/notebook/data/input/brain_functional_ids.txt\n"
       ]
      }
     ],
     "prompt_number": 2
    },
    {
     "cell_type": "code",
     "collapsed": false,
     "input": [
      "# Match the 82 to 68 regions, out the line to remove\n",
      "diff = set(brainLabels) - set(brainLabelsFunc)\n",
      "toRemove = []\n",
      "for i, label in enumerate(brainLabels):\n",
      "    if label in diff:\n",
      "        toRemove.append(i)\n",
      "print 'Ids to remove:', toRemove"
     ],
     "language": "python",
     "metadata": {},
     "outputs": [
      {
       "output_type": "stream",
       "stream": "stdout",
       "text": [
        "Ids to remove: [34, 35, 36, 37, 38, 39, 40, 75, 76, 77, 78, 79, 80, 81]\n"
       ]
      }
     ],
     "prompt_number": 3
    },
    {
     "cell_type": "markdown",
     "metadata": {},
     "source": [
      "## Loading the average adjacency matrix for all patients"
     ]
    },
    {
     "cell_type": "code",
     "collapsed": false,
     "input": [
      "filename = os.path.join(NOTEBOOK_INPUT_DIR, 'SCgroup.txt')\n",
      "A = np.loadtxt(open(filename,\"rb\"), dtype=int, delimiter=',', skiprows=0)\n",
      "# Remove diagonal elements to have a real adjacency matrix\n",
      "A = A - np.diag(np.diag(A))\n",
      "\n",
      "print('Read: ' + filename), '\\n'\n",
      "print 'Average ajacency matrix:', A.shape"
     ],
     "language": "python",
     "metadata": {},
     "outputs": [
      {
       "output_type": "stream",
       "stream": "stdout",
       "text": [
        "Read: /Users/kikohs/work/pro/dybrain/notebook/data/input/SCgroup.txt \n",
        "\n",
        "Average ajacency matrix: (82, 82)\n"
       ]
      }
     ],
     "prompt_number": 4
    },
    {
     "cell_type": "markdown",
     "metadata": {},
     "source": [
      "### Remove the unneeded regions"
     ]
    },
    {
     "cell_type": "code",
     "collapsed": false,
     "input": [
      "print 'Nodes to remove:', toRemove\n",
      "A = np.delete(A, toRemove, axis=0)  # remove rows\n",
      "A = np.delete(A, toRemove, axis=1)  # remove columns\n",
      "\n",
      "print 'Reduced ajacendy matrix:', A.shape"
     ],
     "language": "python",
     "metadata": {},
     "outputs": [
      {
       "output_type": "stream",
       "stream": "stdout",
       "text": [
        "Nodes to remove: [34, 35, 36, 37, 38, 39, 40, 75, 76, 77, 78, 79, 80, 81]\n",
        "Reduced ajacendy matrix: (68, 68)\n"
       ]
      }
     ],
     "prompt_number": 5
    },
    {
     "cell_type": "markdown",
     "metadata": {},
     "source": [
      "Replot new reduced adjacency matrix"
     ]
    },
    {
     "cell_type": "code",
     "collapsed": false,
     "input": [
      "plt.imshow(A)\n",
      "plt.show()"
     ],
     "language": "python",
     "metadata": {},
     "outputs": [
      {
       "metadata": {},
       "output_type": "display_data",
       "png": "[encoded data removed]",
       "text": [
        "<matplotlib.figure.Figure at 0x105c89310>"
       ]
      }
     ],
     "prompt_number": 6
    },
    {
     "cell_type": "markdown",
     "metadata": {},
     "source": [
      "## Loading time series"
     ]
    },
    {
     "cell_type": "markdown",
     "metadata": {},
     "source": [
      "In this part, we read the time series for each patient in memory"
     ]
    },
    {
     "cell_type": "code",
     "collapsed": false,
     "input": [
      "ts = []  # timeseries for all patients\n",
      "patients = [] # patient names\n",
      "for root, dirs, files in os.walk(NOTEBOOK_INPUT_DIR):\n",
      "    for filename in files:\n",
      "        if filename.startswith('PH'):\n",
      "            patients.append(filename[0:-7])  # remove _TS.txt from name\n",
      "            path = os.path.join(NOTEBOOK_INPUT_DIR, filename)\n",
      "            # load timeseries data\n",
      "            b = np.loadtxt(open(path, 'rb'), delimiter=',', skiprows=0)\n",
      "            b = np.delete(b, toRemove, axis=0)  # remove unneeded rows\n",
      "            ts.append(b)\n",
      "\n",
      "ts_size = ts[0].shape[1]\n",
      "print 'Read', len(ts), 'files'\n",
      "print 'Timeseries size', ts_size\n",
      "print 'Number of nodes per patient', ts[0].shape[0]"
     ],
     "language": "python",
     "metadata": {},
     "outputs": [
      {
       "output_type": "stream",
       "stream": "stdout",
       "text": [
        "Read 75 files\n",
        "Timeseries size 276\n",
        "Number of nodes per patient 68\n"
       ]
      }
     ],
     "prompt_number": 60
    },
    {
     "cell_type": "markdown",
     "metadata": {},
     "source": [
      "## Normalize patient timeseries"
     ]
    },
    {
     "cell_type": "markdown",
     "metadata": {},
     "source": [
      "Define helper methods for arrays"
     ]
    },
    {
     "cell_type": "code",
     "collapsed": false,
     "input": [
      "def blockshaped(arr, nrows, ncols):\n",
      "    \"\"\"\n",
      "    Return an array of shape (n, nrows, ncols) where\n",
      "    n * nrows * ncols = arr.size\n",
      "\n",
      "    If arr is a 2D array, the returned array looks like n subblocks with\n",
      "    each subblock preserving the \"physical\" layout of arr.\n",
      "    \"\"\"\n",
      "    h, w = arr.shape\n",
      "    return (arr.reshape(h//nrows, nrows, -1, ncols)\n",
      "               .swapaxes(1,2)\n",
      "               .reshape(-1, nrows, ncols))\n",
      "\n",
      "\n",
      "def unblockshaped(arr, h, w):\n",
      "    \"\"\"\n",
      "    Return an array of shape (h, w) where\n",
      "    h * w = arr.size\n",
      "\n",
      "    If arr is of shape (n, nrows, ncols), n sublocks of shape (nrows, ncols),\n",
      "    then the returned array preserves the \"physical\" layout of the sublocks.\n",
      "    \"\"\"\n",
      "    n, nrows, ncols = arr.shape\n",
      "    return (arr.reshape(h//nrows, -1, nrows, ncols)\n",
      "               .swapaxes(1,2)\n",
      "               .reshape(h, w))"
     ],
     "language": "python",
     "metadata": {},
     "outputs": [],
     "prompt_number": 61
    },
    {
     "cell_type": "markdown",
     "metadata": {},
     "source": [
      "Normalize each patient timeseries between -1 and 1. Concatenate all TS into one big matrix, substract mean and divide by standard deviation. Finally split the big matrix into each patient timeseries."
     ]
    },
    {
     "cell_type": "code",
     "collapsed": false,
     "input": [
      "# Normalize each patient timeseries between -1.0 and 1.0\n",
      "for t in ts:\n",
      "    t /= np.max(np.abs(t))\n",
      "\n",
      "# Concatenate all patient timeseries into one big array    \n",
      "T = ts[0]\n",
      "for i in xrange(1, len(ts)):\n",
      "    T = np.concatenate((T, ts[i]), axis=0)\n",
      "\n",
      "# Normalize it, remove mean and divide by standard deviation\n",
      "T_mean = T.mean()\n",
      "T_std = np.sqrt(np.mean((T - T_mean)**2))\n",
      "T1 = (T - T_mean) / T_std\n",
      "T = T1\n",
      "# Split it into individual blocks\n",
      "T = blockshaped(T, 68, 276)\n",
      "\n",
      "# Update timeseries values for each patient\n",
      "for i in xrange(len(ts)):\n",
      "    ts[i] = T[i,:,:]"
     ],
     "language": "python",
     "metadata": {},
     "outputs": [],
     "prompt_number": 62
    },
    {
     "cell_type": "markdown",
     "metadata": {},
     "source": [
      "## Create the augmented Networkx graph"
     ]
    },
    {
     "cell_type": "code",
     "collapsed": false,
     "input": [
      "# Create the base graph the adhacency matrix\n",
      "G = nx.from_numpy_matrix(A)"
     ],
     "language": "python",
     "metadata": {},
     "outputs": [],
     "prompt_number": 63
    },
    {
     "cell_type": "code",
     "collapsed": false,
     "input": [
      "# Iterate through nodes of the graph, to add infos on each node\n",
      "for i in G.nodes():  # each node is an int\n",
      "    name = brainLabels[i]\n",
      "    short_name = ''\n",
      "    brain_side = ''\n",
      "    if name.startswith('lh_'):\n",
      "        short_name = name[3:]\n",
      "        brain_side = 'left'\n",
      "    elif name.startswith('rh_'):\n",
      "        short_name = name[3:]\n",
      "        brain_side = 'right'\n",
      "    else:\n",
      "        short_name = name\n",
      "    G.node[i]['label'] = short_name\n",
      "    G.node[i]['brain_side'] = brain_side\n",
      "    G.node[i]['func_id'] = brainFuncIds[i]"
     ],
     "language": "python",
     "metadata": {},
     "outputs": [],
     "prompt_number": 64
    },
    {
     "cell_type": "code",
     "collapsed": false,
     "input": [
      "ts_data = []  # list[dict(patient_name: timseries)]\n",
      "for i, name in enumerate(patients):\n",
      "    ts_data.append(ts[i].tolist())\n",
      "\n",
      "graph_data = {}\n",
      "graph_data['patients'] = patients\n",
      "graph_data['group_count'] = len(ts_data)\n",
      "graph_data['ts_data_size'] = ts_size\n",
      "graph_data['ts'] = ts_data\n",
      "\n",
      "# add extra data in the graph object\n",
      "G.graph['graph_data'] = graph_data"
     ],
     "language": "python",
     "metadata": {},
     "outputs": [],
     "prompt_number": 65
    },
    {
     "cell_type": "markdown",
     "metadata": {},
     "source": [
      "## Export the augmented graph as json"
     ]
    },
    {
     "cell_type": "markdown",
     "metadata": {},
     "source": [
      "Save the graph with its nodes, edges and attributes inside a json file:"
     ]
    },
    {
     "cell_type": "code",
     "collapsed": false,
     "input": [
      "augmented_graph_name = 'augmented_brain_graph'\n",
      "json_output_path = os.path.join(NOTEBOOK_OUT_DIR, augmented_graph_name + '.json')\n",
      "with open(json_output_path, 'w') as f:\n",
      "    json.dump(json_graph.node_link_data(G), f)\n",
      "print('Wrote file: ' + json_output_path)"
     ],
     "language": "python",
     "metadata": {},
     "outputs": [
      {
       "output_type": "stream",
       "stream": "stdout",
       "text": [
        "Wrote file: /Users/kikohs/work/pro/dybrain/notebook/data/augmented_brain_graph.json\n"
       ]
      }
     ],
     "prompt_number": 66
    },
    {
     "cell_type": "markdown",
     "metadata": {},
     "source": [
      "## Import the augmented graph into MLD to create the dynamic graph of active components"
     ]
    },
    {
     "cell_type": "markdown",
     "metadata": {},
     "source": [
      "### Import data in the graph database"
     ]
    },
    {
     "cell_type": "code",
     "collapsed": false,
     "input": [
      "# By default, the database is store in the resources folder of the project\n",
      "mld_parser = os.path.join(MLD_BIN_DIR, 'TSParser')\n",
      "\n",
      "try:\n",
      "    out = subprocess.check_output([mld_parser, '-i', json_output_path], stderr=subprocess.STDOUT)\n",
      "except subprocess.CalledProcessError as e:\n",
      "    print e.output\n",
      "    \n",
      "print out"
     ],
     "language": "python",
     "metadata": {},
     "outputs": [
      {
       "output_type": "stream",
       "stream": "stdout",
       "text": [
        "- 19:42:22.603 INFO: Importing TimeSeries graph dataset from json/Users/kikohs/work/pro/dybrain/notebook/data/augmented_brain_graph.json\n",
        "- 19:42:50.032 INFO: Creating attribute: brain_side\n",
        "- 19:42:50.032 INFO: Creating attribute: func_id\n",
        "- 19:42:50.032 INFO: Creating attribute: id\n",
        "- 19:42:50.032 INFO: Creating nodes\n",
        "- 19:42:50.360 INFO: Creating edges\n",
        "- 19:42:50.769 INFO: Add timeseries data\n",
        "- 19:43:11.846 INFO: \r\n",
        "\r\n",
        "Timer Precision = 1000.0000 ps\r\n",
        "\r\n",
        "\r\n",
        "=== Item                                          Trials    Ttl Time  Avg Time  Mean Time StdDev    ===\r\n",
        "    Importing TimeSeries as json                  1         49.24 s   49.24 s   1.00 s    0.0000 ps\r\n",
        "=======================================================================================================\r\n",
        "\n",
        "\n"
       ]
      }
     ],
     "prompt_number": 67
    },
    {
     "cell_type": "markdown",
     "metadata": {},
     "source": [
      "### Apply spatio-temporal filter"
     ]
    },
    {
     "cell_type": "markdown",
     "metadata": {},
     "source": [
      "Filtering parameters"
     ]
    },
    {
     "cell_type": "code",
     "collapsed": false,
     "input": [
      "activate_filter = False\n",
      "window_size = 3\n",
      "lambda_param = 1\n",
      "iterations = 1"
     ],
     "language": "python",
     "metadata": {},
     "outputs": [],
     "prompt_number": 68
    },
    {
     "cell_type": "markdown",
     "metadata": {},
     "source": [
      "Copy the database to run different filter without importing the data all over again"
     ]
    },
    {
     "cell_type": "code",
     "collapsed": false,
     "input": [
      "def create_name(base, s, l, i, use_filter):\n",
      "    if use_filter:\n",
      "        return base + '_s' + str(s) + '_l' + str(l) + '_i' + str(i)\n",
      "    else:\n",
      "        return base + '_raw'\n",
      "# Create new database name\n",
      "augmented_graph_name_filter = create_name(augmented_graph_name, window_size, lambda_param, iterations, activate_filter)\n",
      "    \n",
      "db_path = os.path.join(MLD_ROOT_DIR, 'resources/') + augmented_graph_name + '.sparksee'\n",
      "new_db_path = os.path.join(MLD_ROOT_DIR, 'resources/') + augmented_graph_name_filter + '.sparksee'\n",
      "\n",
      "shutil.copy2(db_path, new_db_path)\n",
      "print 'Copied', db_path, 'to', new_db_path"
     ],
     "language": "python",
     "metadata": {},
     "outputs": [
      {
       "output_type": "stream",
       "stream": "stdout",
       "text": [
        "Copied /Users/kikohs/work/pro/mld/resources/augmented_brain_graph.sparksee to /Users/kikohs/work/pro/mld/resources/augmented_brain_graph_raw.sparksee\n"
       ]
      }
     ],
     "prompt_number": 69
    },
    {
     "cell_type": "markdown",
     "metadata": {},
     "source": [
      "Run the filtering on the copied database"
     ]
    },
    {
     "cell_type": "code",
     "collapsed": false,
     "input": [
      "if activate_filter:\n",
      "    mld_filter = os.path.join(MLD_BIN_DIR, 'TSFilter')\n",
      "\n",
      "    # Create command line string\n",
      "    filter_args = [mld_filter, '-n', augmented_graph_name_filter, \n",
      "                   '-s', str(window_size), '-l', str(lambda_param), '-i', str(iterations)]\n",
      "    try:\n",
      "        out = subprocess.check_output(filter_args, stderr=subprocess.STDOUT)\n",
      "    except subprocess.CalledProcessError as e:\n",
      "        print e.output\n",
      "\n",
      "    print out"
     ],
     "language": "python",
     "metadata": {},
     "outputs": [],
     "prompt_number": 70
    },
    {
     "cell_type": "markdown",
     "metadata": {},
     "source": [
      "### Extract dynamic graph of active components"
     ]
    },
    {
     "cell_type": "code",
     "collapsed": false,
     "input": [
      "activation_threshold = None\n",
      "# activation_threshold = T_std  # override value here"
     ],
     "language": "python",
     "metadata": {},
     "outputs": [],
     "prompt_number": 71
    },
    {
     "cell_type": "code",
     "collapsed": false,
     "input": [
      "dynamic_graph_base_name = 'dynamic_components'\n",
      "dynamic_graph_full_name = create_name(dynamic_graph_base_name, window_size, lambda_param, iterations, activate_filter)\n",
      "dg_output_path = os.path.join(NOTEBOOK_OUT_DIR, dynamic_graph_full_name + '.json')\n",
      "print dg_output_path"
     ],
     "language": "python",
     "metadata": {},
     "outputs": [
      {
       "output_type": "stream",
       "stream": "stdout",
       "text": [
        "/Users/kikohs/work/pro/dybrain/notebook/data/dynamic_components_raw.json\n"
       ]
      }
     ],
     "prompt_number": 72
    },
    {
     "cell_type": "code",
     "collapsed": false,
     "input": [
      "mld_component = os.path.join(MLD_BIN_DIR, 'TSComponent')\n",
      "\n",
      "# Create command line string\n",
      "filter_args = [mld_component, '-n', augmented_graph_name_filter, \n",
      "               '-o', dg_output_path]\n",
      "\n",
      "if activation_threshold:\n",
      "    filter_args.append('-t')\n",
      "    filter_args.append(str(activation_threshold))\n",
      "    \n",
      "try:\n",
      "    out = subprocess.check_output(filter_args, stderr=subprocess.STDOUT)\n",
      "except subprocess.CalledProcessError as e:\n",
      "    print e.output\n",
      "    \n",
      "print out"
     ],
     "language": "python",
     "metadata": {},
     "outputs": [
      {
       "output_type": "stream",
       "stream": "stdout",
       "text": [
        "- 19:43:12.738 INFO: Extracting dynamic graph\n",
        "- 19:43:13.986 INFO: Computed thresholds\n",
        "- 19:43:13.986 INFO: 3.58227\n",
        "- 19:43:13.986 INFO: 3.58016\n",
        "- 19:43:13.986 INFO: 3.58227\n",
        "- 19:43:13.986 INFO: 3.58227\n",
        "- 19:43:13.986 INFO: 3.58016\n",
        "- 19:43:13.986 INFO: 3.58227\n",
        "- 19:43:13.986 INFO: 3.58227\n",
        "- 19:43:13.986 INFO: 3.58016\n",
        "- 19:43:13.986 INFO: 3.58227\n",
        "- 19:43:13.986 INFO: 3.58227\n",
        "- 19:43:13.986 INFO: 3.58227\n",
        "- 19:43:13.986 INFO: 3.58016\n",
        "- 19:43:13.986 INFO: 3.58016\n",
        "- 19:43:13.986 INFO: 3.58016\n",
        "- 19:43:13.986 INFO: 3.58227\n",
        "- 19:43:13.986 INFO: 3.58227\n",
        "- 19:43:13.986 INFO: 3.58227\n",
        "- 19:43:13.986 INFO: 3.58227\n",
        "- 19:43:13.986 INFO: 3.58016\n",
        "- 19:43:13.986 INFO: 3.58227\n",
        "- 19:43:13.986 INFO: 3.58227\n",
        "- 19:43:13.986 INFO: 3.58016\n",
        "- 19:43:13.986 INFO: 3.58016\n",
        "- 19:43:13.986 INFO: 3.58227\n",
        "- 19:43:13.986 INFO: 3.58016\n",
        "- 19:43:13.986 INFO: 3.58227\n",
        "- 19:43:13.986 INFO: 3.58016\n",
        "- 19:43:13.986 INFO: 3.58016\n",
        "- 19:43:13.986 INFO: 3.58016\n",
        "- 19:43:13.986 INFO: 3.58016\n",
        "- 19:43:13.986 INFO: 3.58227\n",
        "- 19:43:13.986 INFO: 3.58227\n",
        "- 19:43:13.986 INFO: 3.58227\n",
        "- 19:43:13.986 INFO: 3.58016\n",
        "- 19:43:13.986 INFO: 3.58016\n",
        "- 19:43:13.986 INFO: 3.58227\n",
        "- 19:43:13.986 INFO: 3.58016\n",
        "- 19:43:13.986 INFO: 3.58227\n",
        "- 19:43:13.986 INFO: 3.58227\n",
        "- 19:43:13.986 INFO: 3.58016\n",
        "- 19:43:13.986 INFO: 3.58227\n",
        "- 19:43:13.986 INFO: 3.58016\n",
        "- 19:43:13.986 INFO: 3.58227\n",
        "- 19:43:13.986 INFO: 3.58227\n",
        "- 19:43:13.986 INFO: 3.58016\n",
        "- 19:43:13.986 INFO: 3.58227\n",
        "- 19:43:13.986 INFO: 3.58016\n",
        "- 19:43:13.986 INFO: 3.58016\n",
        "- 19:43:13.986 INFO: 3.58227\n",
        "- 19:43:13.986 INFO: 3.58016\n",
        "- 19:43:13.986 INFO: 3.58227\n",
        "- 19:43:13.986 INFO: 3.58016\n",
        "- 19:43:13.986 INFO: 3.58016\n",
        "- 19:43:13.986 INFO: 3.58016\n",
        "- 19:43:13.986 INFO: 3.58227\n",
        "- 19:43:13.986 INFO: 3.58227\n",
        "- 19:43:13.986 INFO: 3.58016\n",
        "- 19:43:13.986 INFO: 3.58227\n",
        "- 19:43:13.986 INFO: 3.58016\n",
        "- 19:43:13.986 INFO: 3.58227\n",
        "- 19:43:13.986 INFO: 3.58227\n",
        "- 19:43:13.986 INFO: 3.58016\n",
        "- 19:43:13.986 INFO: 3.58227\n",
        "- 19:43:13.986 INFO: 3.58227\n",
        "- 19:43:13.986 INFO: 3.58227\n",
        "- 19:43:13.986 INFO: 3.58227\n",
        "- 19:43:13.986 INFO: 3.58016\n",
        "- 19:43:13.986 INFO: 3.58227\n",
        "- 19:43:13.986 INFO: 3.58016\n",
        "- 19:43:13.986 INFO: 3.58016\n",
        "- 19:43:13.986 INFO: 3.58227\n",
        "- 19:43:13.986 INFO: 3.58016\n",
        "- 19:43:13.987 INFO: 3.58016\n",
        "- 19:43:13.987 INFO: 3.58227\n",
        "- 19:43:13.987 INFO: 3.58016\n",
        "- 19:43:13.987 INFO: Start extracting active layers\n",
        "\n",
        "0%   10   20   30   40   50   60   70   80   90   100%\n",
        "|----|----|----|----|----|----|----|----|----|----|\n",
        "[>                                                ] 0 %\r",
        "[>                                                ] 2 %\r",
        "[=>                                               ] 4 %\r",
        "[==>                                              ] 6 %\r",
        "[===>                                             ] 8 %\r",
        "[====>                                            ] 10 %\r",
        "[=====>                                           ] 12 %\r",
        "[======>                                          ] 14 %\r",
        "[=======>                                         ] 16 %\r",
        "[========>                                        ] 18 %\r",
        "[=========>                                       ] 20 %\r",
        "[==========>                                      ] 22 %\r",
        "[===========>                                     ] 24 %\r",
        "[============>                                    ] 26 %\r",
        "[=============>                                   ] 28 %\r",
        "[==============>                                  ] 30 %\r",
        "[===============>                                 ] 32 %\r",
        "[================>                                ] 34 %\r",
        "[=================>                               ] 36 %\r",
        "[==================>                              ] 38 %\r",
        "[===================>                             ] 40 %\r",
        "[====================>                            ] 42 %\r",
        "[=====================>                           ] 44 %\r",
        "[======================>                          ] 46 %\r",
        "[=======================>                         ] 48 %\r",
        "[========================>                        ] 51 %\r",
        "[=========================>                       ] 53 %\r",
        "[==========================>                      ] 55 %\r",
        "[===========================>                     ] 57 %\r",
        "[============================>                    ] 59 %\r",
        "[=============================>                   ] 61 %\r",
        "[==============================>                  ] 63 %\r",
        "[===============================>                 ] 65 %\r",
        "[================================>                ] 67 %\r",
        "[=================================>               ] 69 %\r",
        "[==================================>              ] 71 %\r",
        "[===================================>             ] 73 %\r",
        "[====================================>            ] 75 %\r",
        "[=====================================>           ] 77 %\r",
        "[======================================>          ] 79 %\r",
        "[=======================================>         ] 81 %\r",
        "[========================================>        ] 83 %\r",
        "[=========================================>       ] 85 %\r",
        "[==========================================>      ] 87 %\r",
        "[===========================================>     ] 89 %\r",
        "[============================================>    ] 91 %\r",
        "[=============================================>   ] 93 %\r",
        "[==============================================>  ] 95 %\r",
        "[===============================================> ] 97 %\r",
        "[=================================================] 100 %\r\n",
        "- 19:43:30.865 INFO: Layouting dynamic graph\n",
        "\n",
        "0%   10   20   30   40   50   60   70   80   90   100%\n",
        "|----|----|----|----|----|----|----|----|----|----|\n",
        "[>                                                ] 0 %\r",
        "[>                                                ] 1 %\r",
        "[=>                                               ] 4 %\r",
        "[==>                                              ] 5 %\r",
        "[===>                                             ] 8 %\r",
        "[====>                                            ] 9 %\r",
        "[=====>                                           ] 12 %\r",
        "[=======>                                         ] 14 %\r",
        "[=======>                                         ] 16 %\r",
        "[========>                                        ] 18 %\r",
        "[=========>                                       ] 20 %\r",
        "[==========>                                      ] 22 %\r",
        "[===========>                                     ] 24 %\r",
        "[============>                                    ] 26 %\r",
        "[==============>                                  ] 28 %\r",
        "[==============>                                  ] 30 %\r",
        "[===============>                                 ] 32 %\r",
        "[================>                                ] 34 %\r",
        "[=================>                               ] 36 %\r",
        "[==================>                              ] 38 %\r",
        "[===================>                             ] 40 %\r",
        "[=====================>                           ] 42 %\r",
        "[=====================>                           ] 44 %\r",
        "[======================>                          ] 46 %\r",
        "[=======================>                         ] 48 %\r",
        "[========================>                        ] 50 %\r",
        "[=========================>                       ] 52 %\r",
        "[==========================>                      ] 54 %\r",
        "[============================>                    ] 57 %\r",
        "[============================>                    ] 58 %\r",
        "[=============================>                   ] 61 %\r",
        "[==============================>                  ] 63 %\r",
        "[===============================>                 ] 65 %\r",
        "[================================>                ] 67 %\r",
        "[=================================>               ] 69 %\r",
        "[===================================>             ] 71 %\r",
        "[===================================>             ] 73 %\r",
        "[====================================>            ] 75 %\r",
        "[=====================================>           ] 77 %\r",
        "[======================================>          ] 79 %\r",
        "[=======================================>         ] 81 %\r",
        "[========================================>        ] 83 %\r",
        "[==========================================>      ] 85 %\r",
        "[==========================================>      ] 87 %\r",
        "[===========================================>     ] 89 %\r",
        "[============================================>    ] 91 %\r",
        "[=============================================>   ] 93 %\r",
        "[==============================================>  ] 95 %\r",
        "[===============================================> ] 97 %\r",
        "[=================================================] 100 %\r\n",
        "- 19:43:30.911 INFO: Dynamic graph: #layers: 273 #nodes: 8774 #edges: 13729 #components: 1723 \n",
        "- 19:43:30.911 INFO: Exporting Dynamic as json to: /Users/kikohs/work/pro/dybrain/notebook/data/dynamic_components_raw.json\n",
        "\n",
        "0%   10   20   30   40   50   60   70   80   90   100%\n",
        "|----|----|----|----|----|----|----|----|----|----|\n",
        "[>                                                ] 0 %\r",
        "[>                                                ] 2 %\r",
        "[=>                                               ] 4 %\r",
        "[==>                                              ] 6 %\r",
        "[===>                                             ] 8 %\r",
        "[====>                                            ] 10 %\r",
        "[=====>                                           ] 12 %\r",
        "[======>                                          ] 14 %\r",
        "[=======>                                         ] 16 %\r",
        "[========>                                        ] 18 %\r",
        "[=========>                                       ] 20 %\r",
        "[==========>                                      ] 22 %\r",
        "[===========>                                     ] 24 %\r",
        "[============>                                    ] 26 %\r",
        "[=============>                                   ] 28 %\r",
        "[==============>                                  ] 30 %\r",
        "[===============>                                 ] 32 %\r",
        "[================>                                ] 34 %\r",
        "[=================>                               ] 36 %\r",
        "[==================>                              ] 38 %\r",
        "[===================>                             ] 40 %\r",
        "[====================>                            ] 42 %\r",
        "[=====================>                           ] 44 %\r",
        "[======================>                          ] 46 %\r",
        "[=======================>                         ] 48 %\r",
        "[========================>                        ] 51 %\r",
        "[=========================>                       ] 53 %\r",
        "[==========================>                      ] 55 %\r",
        "[===========================>                     ] 57 %\r",
        "[============================>                    ] 59 %\r",
        "[=============================>                   ] 61 %\r",
        "[==============================>                  ] 63 %\r",
        "[===============================>                 ] 65 %\r",
        "[================================>                ] 67 %\r",
        "[=================================>               ] 69 %\r",
        "[==================================>              ] 71 %\r",
        "[===================================>             ] 73 %\r",
        "[====================================>            ] 75 %\r",
        "[=====================================>           ] 77 %\r",
        "[======================================>          ] 79 %\r",
        "[=======================================>         ] 81 %\r",
        "[========================================>        ] 83 %\r",
        "[=========================================>       ] 85 %\r",
        "[==========================================>      ] 87 %\r",
        "[===========================================>     ] 89 %\r",
        "[============================================>    ] 91 %\r",
        "[=============================================>   ] 93 %\r",
        "[==============================================>  ] 95 %\r",
        "[===============================================> ] 97 %\r",
        "[=================================================] 100 %\r\n",
        "- 19:43:32.241 INFO: \r\n",
        "\r\n",
        "Timer Precision = 1000.0000 ps\r\n",
        "\r\n",
        "\r\n",
        "=== Item                                          Trials    Ttl Time  Avg Time  Mean Time StdDev    ===\r\n",
        "    Exporting Dynamic Graph as json               1         1.33 s    1.33 s    0.0000 ps 0.0000 ps\r\n",
        "    Extracting dynamic graph                      1         18.10 s   18.10 s   0.0000 ps 0.0000 ps\r\n",
        "    Layouting dynamic graph                       1         45 ms     45 ms     0.0000 ps 0.0000 ps\r\n",
        "=======================================================================================================\r\n",
        "\n",
        "\n"
       ]
      }
     ],
     "prompt_number": 73
    },
    {
     "cell_type": "code",
     "collapsed": false,
     "input": [],
     "language": "python",
     "metadata": {},
     "outputs": []
    }
   ],
   "metadata": {}
  }
 ]
}